{
 "cells": [
  {
   "cell_type": "code",
   "execution_count": 1,
   "metadata": {},
   "outputs": [
    {
     "name": "stderr",
     "output_type": "stream",
     "text": [
      "/Users/kartikeyadatta/Documents/Projects/Naruto/code/myenv/lib/python3.12/site-packages/tqdm/auto.py:21: TqdmWarning: IProgress not found. Please update jupyter and ipywidgets. See https://ipywidgets.readthedocs.io/en/stable/user_install.html\n",
      "  from .autonotebook import tqdm as notebook_tqdm\n"
     ]
    },
    {
     "ename": "ModuleNotFoundError",
     "evalue": "No module named 'seaborn'",
     "output_type": "error",
     "traceback": [
      "\u001b[31m---------------------------------------------------------------------------\u001b[39m",
      "\u001b[31mModuleNotFoundError\u001b[39m                       Traceback (most recent call last)",
      "\u001b[36mCell\u001b[39m\u001b[36m \u001b[39m\u001b[32mIn[1]\u001b[39m\u001b[32m, line 9\u001b[39m\n\u001b[32m      7\u001b[39m \u001b[38;5;28;01mimport\u001b[39;00m\u001b[38;5;250m \u001b[39m\u001b[34;01mnumpy\u001b[39;00m\u001b[38;5;250m \u001b[39m\u001b[38;5;28;01mas\u001b[39;00m\u001b[38;5;250m \u001b[39m\u001b[34;01mnp\u001b[39;00m\n\u001b[32m      8\u001b[39m \u001b[38;5;28;01mimport\u001b[39;00m\u001b[38;5;250m \u001b[39m\u001b[34;01mmatplotlib\u001b[39;00m\u001b[34;01m.\u001b[39;00m\u001b[34;01mpyplot\u001b[39;00m\u001b[38;5;250m \u001b[39m\u001b[38;5;28;01mas\u001b[39;00m\u001b[38;5;250m \u001b[39m\u001b[34;01mplt\u001b[39;00m\n\u001b[32m----> \u001b[39m\u001b[32m9\u001b[39m \u001b[38;5;28;01mimport\u001b[39;00m\u001b[38;5;250m \u001b[39m\u001b[34;01mseaborn\u001b[39;00m\u001b[38;5;250m \u001b[39m\u001b[38;5;28;01mas\u001b[39;00m\u001b[38;5;250m \u001b[39m\u001b[34;01msns\u001b[39;00m\n",
      "\u001b[31mModuleNotFoundError\u001b[39m: No module named 'seaborn'"
     ]
    }
   ],
   "source": [
    "from transformers import pipeline\n",
    "from nltk import sent_tokenize\n",
    "import nltk\n",
    "import torch\n",
    "from glob import glob\n",
    "import pandas as pd\n",
    "import numpy as np\n",
    "import matplotlib.pyplot as plt\n",
    "import seaborn as sns"
   ]
  },
  {
   "cell_type": "code",
   "execution_count": 92,
   "metadata": {},
   "outputs": [
    {
     "name": "stderr",
     "output_type": "stream",
     "text": [
      "[nltk_data] Downloading package punkt to\n",
      "[nltk_data]     /Users/kartikeyadatta/nltk_data...\n",
      "[nltk_data]   Package punkt is already up-to-date!\n"
     ]
    },
    {
     "data": {
      "text/plain": [
       "True"
      ]
     },
     "execution_count": 92,
     "metadata": {},
     "output_type": "execute_result"
    }
   ],
   "source": [
    "nltk.download('punkt')"
   ]
  },
  {
   "cell_type": "markdown",
   "metadata": {},
   "source": [
    "### Load Model"
   ]
  },
  {
   "cell_type": "code",
   "execution_count": 93,
   "metadata": {},
   "outputs": [],
   "source": [
    "model_name = \"facebook/bart-large-mnli\"\n",
    "device = 0 if torch.cuda.is_available() else \"cpu\""
   ]
  },
  {
   "cell_type": "code",
   "execution_count": 94,
   "metadata": {},
   "outputs": [],
   "source": [
    "def load_model(device):\n",
    "    theme_classifier = pipeline(\n",
    "        \"zero-shot-classification\",\n",
    "        model=model_name,\n",
    "        device = device,\n",
    "        framework=\"pt\"\n",
    "    )\n",
    "    return theme_classifier"
   ]
  },
  {
   "cell_type": "code",
   "execution_count": 95,
   "metadata": {},
   "outputs": [
    {
     "name": "stderr",
     "output_type": "stream",
     "text": [
      "Device set to use cpu\n"
     ]
    }
   ],
   "source": [
    "theme_classifier = load_model(device)"
   ]
  },
  {
   "cell_type": "code",
   "execution_count": 96,
   "metadata": {},
   "outputs": [],
   "source": [
    "theme_list = [\"friendship\", \"hope\", \"sacrifice\", \"Loss\", \"battle\", \"self development\", \"betrayal\", \"love\", \"dialogue\"]"
   ]
  },
  {
   "cell_type": "code",
   "execution_count": 97,
   "metadata": {},
   "outputs": [
    {
     "data": {
      "text/plain": [
       "{'sequence': 'I gave him a right hook to the jaw.',\n",
       " 'labels': ['battle',\n",
       "  'Loss',\n",
       "  'sacrifice',\n",
       "  'dialogue',\n",
       "  'self development',\n",
       "  'hope',\n",
       "  'betrayal',\n",
       "  'love',\n",
       "  'friendship'],\n",
       " 'scores': [0.43183720111846924,\n",
       "  0.2033565491437912,\n",
       "  0.10435514897108078,\n",
       "  0.08809010684490204,\n",
       "  0.08267572522163391,\n",
       "  0.03386097401380539,\n",
       "  0.03253179043531418,\n",
       "  0.013948127627372742,\n",
       "  0.009344393387436867]}"
      ]
     },
     "execution_count": 97,
     "metadata": {},
     "output_type": "execute_result"
    }
   ],
   "source": [
    "theme_classifier(\n",
    "    \"I gave him a right hook to the jaw.\",\n",
    "    theme_list,\n",
    "    multilabel=True\n",
    ")"
   ]
  },
  {
   "cell_type": "markdown",
   "metadata": {},
   "source": [
    "### Loading the  Dataset"
   ]
  },
  {
   "cell_type": "code",
   "execution_count": 98,
   "metadata": {},
   "outputs": [],
   "source": [
    "files = glob('../data/Subtitles/*.ass')"
   ]
  },
  {
   "cell_type": "code",
   "execution_count": 99,
   "metadata": {},
   "outputs": [
    {
     "data": {
      "text/plain": [
       "['../data/Subtitles/Naruto Season 4 - 94.ass',\n",
       " '../data/Subtitles/Naruto Season 4 - 80.ass',\n",
       " '../data/Subtitles/Naruto Season 2 - 32.ass',\n",
       " '../data/Subtitles/Naruto Season 8 - 185.ass',\n",
       " '../data/Subtitles/Naruto Season 8 - 191.ass']"
      ]
     },
     "execution_count": 99,
     "metadata": {},
     "output_type": "execute_result"
    }
   ],
   "source": [
    "files[:5]"
   ]
  },
  {
   "cell_type": "markdown",
   "metadata": {},
   "source": [
    "- Lets read the lines form the subtitles"
   ]
  },
  {
   "cell_type": "code",
   "execution_count": 100,
   "metadata": {},
   "outputs": [],
   "source": [
    "with open(files[0], 'r') as file:\n",
    "    lines = file.readlines()\n",
    "    lines = lines[27:] # skip the first 27 lines as the dialogues in the subtitle folder are starting from line 27.\n",
    "    lines = [','.join(line.split(',')[9:]) for line in lines]\n",
    "    "
   ]
  },
  {
   "cell_type": "code",
   "execution_count": 101,
   "metadata": {},
   "outputs": [
    {
     "data": {
      "text/plain": [
       "['We are Fighting Dreamers aiming high\\n',\n",
       " \"Fighting Dreamers\\\\Ndon't care what people think about them\\n\"]"
      ]
     },
     "execution_count": 101,
     "metadata": {},
     "output_type": "execute_result"
    }
   ],
   "source": [
    "lines[:2]"
   ]
  },
  {
   "cell_type": "code",
   "execution_count": 102,
   "metadata": {},
   "outputs": [],
   "source": [
    "lines = [ line.replace('\\\\N' , ' ')for line in lines]"
   ]
  },
  {
   "cell_type": "code",
   "execution_count": 103,
   "metadata": {},
   "outputs": [
    {
     "data": {
      "text/plain": [
       "['We are Fighting Dreamers aiming high\\n',\n",
       " \"Fighting Dreamers don't care what people think about them\\n\"]"
      ]
     },
     "execution_count": 103,
     "metadata": {},
     "output_type": "execute_result"
    }
   ],
   "source": [
    "lines[:2]"
   ]
  },
  {
   "cell_type": "markdown",
   "metadata": {},
   "source": [
    "- As theme classifier has a maximum of 512 tokes we can not feed the whole subtitle to the model. We need to split the subtitle into chunks of data. "
   ]
  },
  {
   "cell_type": "code",
   "execution_count": 104,
   "metadata": {},
   "outputs": [
    {
     "data": {
      "text/plain": [
       "\"We are Fighting Dreamers aiming high\\n Fighting Dreamers don't care what people think about them\\n Fighting Dreamers follow what they believe\\n Oli Oli Oli Oh! Just go my way\\n Right here right now (Bang) Hit it straight like a line drive!\\n Right here right now (Burn)\\n Down a difficult road filled with endless struggles\\n Where do you think you are going following someone else's map?\\n An insightful crow comes along to tear up the map\\n Now open your eyes and take a look at the truth (Yeah!)\\n\""
      ]
     },
     "execution_count": 104,
     "metadata": {},
     "output_type": "execute_result"
    }
   ],
   "source": [
    "\" \".join(lines[:10])"
   ]
  },
  {
   "cell_type": "markdown",
   "metadata": {},
   "source": [
    "- Now lets try to get the episode number of our series."
   ]
  },
  {
   "cell_type": "code",
   "execution_count": 105,
   "metadata": {},
   "outputs": [
    {
     "data": {
      "text/plain": [
       "94"
      ]
     },
     "execution_count": 105,
     "metadata": {},
     "output_type": "execute_result"
    }
   ],
   "source": [
    "int(files[0].split('-')[-1].split('.')[0].strip())"
   ]
  },
  {
   "cell_type": "code",
   "execution_count": 106,
   "metadata": {},
   "outputs": [],
   "source": [
    "def load_subtitles_dataset(dataset_path):\n",
    "    subtitles_path = glob(dataset_path+'/*.ass')\n",
    "    \n",
    "    scripts = []\n",
    "    episode_num = []\n",
    "    for path in subtitles_path:\n",
    "        with open(path, 'r') as file:\n",
    "            lines = file.readlines()\n",
    "            lines = lines[27:] # skip the first 27 lines as the dialogues in the subtitle folder are starting from line 27.\n",
    "            lines = [','.join(line.split(',')[9:]) for line in lines]\n",
    "            \n",
    "        lines = [ line.replace('\\\\N' , ' ')for line in lines]\n",
    "        script = \" \".join(lines)\n",
    "        \n",
    "        episode = int(path.split('-')[-1].split('.')[0].strip())\n",
    "        \n",
    "        scripts.append(script)\n",
    "        episode_num.append(episode)\n",
    "        \n",
    "    df = pd.DataFrame.from_dict({\"episode\":episode_num, \"script\":scripts})\n",
    "    return df"
   ]
  },
  {
   "cell_type": "code",
   "execution_count": 107,
   "metadata": {},
   "outputs": [],
   "source": [
    "dataset_path = \"../data/Subtitles\"\n",
    "df = load_subtitles_dataset(dataset_path)"
   ]
  },
  {
   "cell_type": "code",
   "execution_count": 108,
   "metadata": {},
   "outputs": [
    {
     "data": {
      "text/html": [
       "<div>\n",
       "<style scoped>\n",
       "    .dataframe tbody tr th:only-of-type {\n",
       "        vertical-align: middle;\n",
       "    }\n",
       "\n",
       "    .dataframe tbody tr th {\n",
       "        vertical-align: top;\n",
       "    }\n",
       "\n",
       "    .dataframe thead th {\n",
       "        text-align: right;\n",
       "    }\n",
       "</style>\n",
       "<table border=\"1\" class=\"dataframe\">\n",
       "  <thead>\n",
       "    <tr style=\"text-align: right;\">\n",
       "      <th></th>\n",
       "      <th>episode</th>\n",
       "      <th>script</th>\n",
       "    </tr>\n",
       "  </thead>\n",
       "  <tbody>\n",
       "    <tr>\n",
       "      <th>0</th>\n",
       "      <td>94</td>\n",
       "      <td>We are Fighting Dreamers aiming high\\n Fightin...</td>\n",
       "    </tr>\n",
       "    <tr>\n",
       "      <th>1</th>\n",
       "      <td>80</td>\n",
       "      <td>We are Fighting Dreamers aiming high\\n Fightin...</td>\n",
       "    </tr>\n",
       "    <tr>\n",
       "      <th>2</th>\n",
       "      <td>32</td>\n",
       "      <td>Press down hard on the gas\\n That’s right, the...</td>\n",
       "    </tr>\n",
       "    <tr>\n",
       "      <th>3</th>\n",
       "      <td>185</td>\n",
       "      <td>Rock away your existence,\\n Shouting that you ...</td>\n",
       "    </tr>\n",
       "    <tr>\n",
       "      <th>4</th>\n",
       "      <td>191</td>\n",
       "      <td>Rock away your existence,\\n Shouting that you ...</td>\n",
       "    </tr>\n",
       "  </tbody>\n",
       "</table>\n",
       "</div>"
      ],
      "text/plain": [
       "   episode                                             script\n",
       "0       94  We are Fighting Dreamers aiming high\\n Fightin...\n",
       "1       80  We are Fighting Dreamers aiming high\\n Fightin...\n",
       "2       32  Press down hard on the gas\\n That’s right, the...\n",
       "3      185  Rock away your existence,\\n Shouting that you ...\n",
       "4      191  Rock away your existence,\\n Shouting that you ..."
      ]
     },
     "execution_count": 108,
     "metadata": {},
     "output_type": "execute_result"
    }
   ],
   "source": [
    "df.head()"
   ]
  },
  {
   "cell_type": "markdown",
   "metadata": {},
   "source": [
    "### Lets try running our model"
   ]
  },
  {
   "cell_type": "code",
   "execution_count": 109,
   "metadata": {},
   "outputs": [
    {
     "name": "stdout",
     "output_type": "stream",
     "text": [
      "We are Fighting Dreamers aiming high\n",
      " Fighting Dreamers don't care what people think about them\n",
      " Fighting Dreamers follow what they believe\n",
      " Oli Oli Oli Oh! Just go my way\n",
      " Right here right now (Bang) Hit it straight like a line drive!\n",
      " Right here right now (Burn)\n",
      " Down a difficult road filled with endless struggles\n",
      " Where do you think you are going following someone else's map?\n",
      " An insightful crow comes along to tear up the map\n",
      " Now open your eyes and take a look at the truth (Yeah!)\n",
      " There's nothing to lose, so let's GO!!!\n",
      " We are Fighting Dreamers aiming high\n",
      " Fighting Dreamers don't care what people think about them\n",
      " Fighting Dreamers follow what they believe\n",
      " Oli Oli Oli Oh! Just go my way\n",
      " Right here right now (Bang) Hit it straight like a line drive!\n",
      " Right here right now (Burn) We're gonna do it and do our best!\n",
      " Right here right now (Bang) Hit it straight like a line drive!\n",
      " Right here right now (Burn) We're gonna do it and do our best! BANG!\n",
      " My body movements have finally returned…\n",
      " Blood…\n",
      " Lady Tsunade!\n",
      " Say! Say! What’s happening?!\n",
      " Why’s Kabuto fighting with Old Lady Tsunade?!\n",
      " Take a good look at the headband!\n",
      " He’s Orochimaru’s subordinate.\n",
      " Attack! Fury of the Rasengan!\n",
      " That man is Orochimaru…\n",
      " Shizune, you take care of the guy with the glasses…\n",
      " I’ll take care of Orochimaru.\n",
      " Before that, I’d like to have Tsunade do something about this body.\n",
      " The effects of that drug might still last for awhile…\n",
      " There’s nothing that I can do about it.\n",
      " What? Really?\n",
      " Geez. I guess it can’t be helped.\n",
      " I have no choice but to fight in this condition.\n",
      " Tsunade… Rest your body with Recovery Ninjutsu.\n",
      " Then… What about me, me?\n",
      " You guard Tsunade together with that pig.\n",
      " What?! I want to fight, too. Even I can--\n",
      " No, you won’t!\n",
      " Like that four-eyed kid said, right?\n",
      " You’re on a different level.\n",
      " The opponent is a Sannin like myself,\n",
      " and the man who killed the Third Hokage.\n",
      " An eye for an eye… I’m the only one who can fight him.\n",
      " And that four-eyed guy possesses the same level of power as Kakashi.\n",
      " Okay.\n",
      " Then… Shadow Clo--\n",
      " Hold it!\n",
      " Don’t use the Shadow Clone Jutsu. lt’d be utterly pointless.\n",
      " What?\n",
      " It wouldn’t even become much of a diversion…\n",
      " It’d be a waste of Chakra…\n",
      " with them as opponents.\n",
      " Now then, let’s get this thing started.\n",
      " – Summoning Jutsu. – Summoning Jutsu.\n",
      " Hi.\n",
      " – Huh?! \t\t\t\t\t– What is this?!\n",
      " – Wha--?! – What the heck’s going on?!\n",
      " Long time no see.\n",
      " On account of the drug,\n",
      " Master Jiraiya still can’t build up Chakra very well.\n",
      " It looks like your stupid still hasn’t healed, eh, Jiraiya.\n",
      " That’s too much even for you with no ability.\n",
      " It seems Tsunade got you with something.\n",
      " A sacrifice was necessary for that Jutsu,\n",
      " so perhaps she was thinking ahead and drugged him\n",
      " with something that would contain his power.\n",
      " To think she’d make a sacrifice of Jiraiya…\n",
      " Well, it sounds just like Tsunade.\n",
      " To think I’d already have my handicap spotted.\n",
      " You are such a disgraceful guy as always…\n",
      " Dang it. It kind of ticks me off when the Pervy Sage is mocked.\n",
      " Summoning…Jutsu!\n",
      " The Nine-Tailed Fox kid from the Chunin Exam.\n",
      " I wonder if I should’ve killed him then, after all.\n",
      " For the sake of the Akatsuki organization,\n",
      " I acknowledged his achievement… and let him slide by.\n",
      " But the only ones who can break a Five-Pronged Spell\n",
      " are the Sannin members and the Third Hokage.\n",
      " Which means Jiraiya may have already taught it to Naruto.\n",
      " Perhaps.\n",
      " If he’s able to control the Nine-Tailed Fox’s power…\n",
      " Oh…\n",
      " Th-This is…\n",
      " It doesn’t quite look to be so.\n",
      " He isn’t endowed with Shinobi ability to begin with, so…\n",
      " Why?\n",
      " He’s still got a long way to go, sure enough.\n",
      " Why?!\n",
      " Hello.\n",
      " Hey, Gamatatsu. Why did you come out?\n",
      " Oh, Brother Gamakichi.\n",
      " It’s the first time I’ve been Summoned.\n",
      " I-I wonder if I can do my best?\n",
      " Idiot. Get some snacks or something and hide.\n",
      " What? I can get snacks? Goody-goody.\n",
      " Here I go.\n",
      " I’ll take Jiraiya.\n",
      " I leave the rest to you.\n",
      " It’s unfortunate…\n",
      " Here I also wanted to fight Lord Jiraiya, one of the Sannin.\n",
      " Naruto!\n",
      " Your opponent is me.\n",
      " Earth Style! Dark Swamp!\n",
      " Dang it. I can’t completely sink them with such a puny swamp.\n",
      " The drug is still working.\n",
      " But…with this, the snakes can’t move.\n",
      " Ninja Art! Poison Fog!\n",
      " I’ll be up a creek if I take even one breath.\n",
      " My leg tendons…!\n",
      " I won’t be eaten twice…! No way!\n",
      " Here I go.\n",
      " Ninja Art! Needle Jizo!\n",
      " Dang it…The Jutsu isn’t working well.\n",
      " Even if we both have handicaps, you won’t one-up me…\n",
      " Give up now.\n",
      " It’s unfortunate…\n",
      " Here I had respected you as a fellow Medical Ninja.\n",
      " Stop. Stay back!\n",
      " Please hang on, Lady Tsunade…\n",
      " The Sannin name, which Lord Orochimaru is also called, will cry.\n",
      " My body’s heavy.\n",
      " To think you who were once called the village madness\n",
      " would ferry around such a kid and struggle tirelessly for the village.\n",
      " You’ve really fallen, haven’t you?\n",
      " I have a keen eye to discern ability.\n",
      " And that kid…is mediocrity in my eyes.\n",
      " It’s precisely for this reason… that I don’t need the Uchiha kid.\n",
      " It’s no fun raising a genius who’s good from the start.\n",
      " So you can’t leave him alone\n",
      " because it’s like you’re looking at your old self?\n",
      " That kid can’t beat Uchiha who inherited the inherent Sharingan Shinobi skill.\n",
      " And that’s because Naruto doesn’t possess the Sharingan.\n",
      " Shinobi ability is about whether\n",
      " one can use and master all the Jutsu of the world.\n",
      " Ninja refers to one who can use Ninjutsu.\n",
      " Shinobi ability is no such thing.\n",
      " You still don’t get it?\n",
      " A Ninja…is one who endures.\n",
      " It’s a difference of opinion, huh.\n",
      " I’ll teach you one thing.\n",
      " What’s most important for Shinobi ability…\n",
      " isn’t the number of Jutsu one possesses.\n",
      " What’s important is…\n",
      " The mettle…\n",
      " not to give up.\n",
      " Enough already…you jerk!\n",
      " The mettle to never give up…\n",
      " He possesses that.\n",
      " Heh. I don’t know what Jutsu you learned,\n",
      " but you can’t hit me with such a large motion.\n",
      " No good.\n",
      " It won’t easily hit with a moving opponent.\n",
      " Owwee!\n",
      " And the Chakra isn’t completely held, yet…\n",
      " It seems you got a cracked thigh bone in your left leg\n",
      " from the battle with the snake.\n",
      " Well, you can still move if it’s just the bone.\n",
      " But it’s impossible now…\n",
      " The lateral vastus muscle in your right leg is totally cut off.\n",
      " What should I do…?\n",
      " That Jutsu of mine uses both hands.\n",
      " If even one arm is taken out, it’s over.\n",
      " Are you scared of me?\n",
      " Do you want to run away from here?\n",
      " Naruto, as I recall,\n",
      " you whooped it up like this during the first Chunin Exam.\n",
      " Don’t mess with me. I won’t run away!\n",
      " \"Don’t mess with me. I won’t run away.\"\n",
      " \"I’ll take it. Even if I’m a Genin for life…\"\n",
      " \"I’ll become the Hokage at any cost, so it’s okay with me.\"\n",
      " \"I’m not scared.\"\n",
      " Can you… whoop it up in the same way now?\n",
      " Unlike you…\n",
      " I will be the heir to the Hokage name no matter what!\n",
      " – Hokage is my dream! – Hokage is my dream!\n",
      " You’re not a kid anymore, so you should stop whooping it up…\n",
      " Depending on the situation,\n",
      " when you want to give up and run away, you should run away.\n",
      " Oh my… What’s with that look?\n",
      " You’ll die! If you die, there are no dreams or anything…\n",
      " Do you want to die?\n",
      " You’re still a Genin, so you should run away on the battlefield.\n",
      " Don’t tell a man to run away.\n",
      " Kids think that everything is easy.\n",
      " That’s why they talk about foolish dreams like nothing at all.\n",
      " That’s why they can’t give up.\n",
      " Jiraiya, was it you who taught him that Rasengan?\n",
      " Are you acting like a teacher by teaching a Jutsu that can’t be learned?\n",
      " Don’t give him false hopes.\n",
      " That’s why a moony kid starts joking that he’ll become the Hokage!\n",
      " They chase after foolish dreams… and then die.\n",
      " If I have three days, I’ll master that Jutsu.\n",
      " Then let's make a bet.\n",
      " Bastard!\n",
      " As for me… I stand by my words.\n",
      " That’s…my Way of Ninja!\n",
      " A bet?\n",
      " I’ll give you one week.\n",
      " If you can master that Jutsu,\n",
      " I’ll acknowledge that you’ll be able to become the Hokage…\n",
      " and give you this necklace.\n",
      " You should’ve just stayed out of this…\n",
      " Why?\n",
      " Why?!\n",
      " Old Lady Tsunade…\n",
      " You’re still going to get up?\n",
      " Just like our wager\n",
      " I will definitely win that unlucky necklace from you.\n",
      " Shadow Clone Jutsu!\n",
      " Shadow Clone won’t do anything now.\n",
      " Enough… Don’t protect me, Naruto. Stop it!\n",
      " I told you that you’d die if you were obstinate like that, right?\n",
      " If you die, there will be no dreams, no nothing.\n",
      " Just get out of the way. Run away.\n",
      " Humph… It’s okay.\n",
      " I…\n",
      " I absolutely will not die…\n",
      " until I become the Hokage!\n",
      " This way, I can hold on to you. Here I go!\n",
      " It’s the same Chakra movement as before.\n",
      " No, this is…different.\n",
      " I see.\n",
      " In order to gain a hand for suppressing Chakra,\n",
      " the Shadow Clone…\n",
      " Compress Chakra and…\n",
      " hold it completely.\n",
      " Wha--?!\n",
      " I-It can’t be.\n",
      " Rasengan!\n",
      " I believe your promise, its a true heart give me courage\n",
      " Always I feel it the precious time with you\n",
      " On your still shoulder\n",
      " I feel the wind that blows towards tomorrow\n",
      " The city lights are like pieces of stars\n",
      " That hold us together\n",
      " “Each one of us glows differently,”\n",
      " you say laughingly\n",
      " but you look most dazzling\n",
      " Like a comet,\n",
      " like the rainbow after the storm\n",
      " You bring light into my heart\n",
      " Being lost can be the answer\n",
      " Let’s promise we won’t cheat\n",
      " Uh... like a shooting star, we do go ahead.\n",
      " I never forget my ideal…\n",
      " to develop the Village Hidden in the Leaf and protect its people.\n",
      " The Hokages have sacrificed their lives for that dream.\n",
      " And now, I also will put my life on the line.\n",
      " From this moment, I am the Fifth Hokage!\n",
      " Next time: \"The Fifth Hokage! A Life on the Line!\"\n",
      "\n"
     ]
    }
   ],
   "source": [
    "script = df.iloc[0]['script']\n",
    "print(script)"
   ]
  },
  {
   "cell_type": "code",
   "execution_count": 110,
   "metadata": {},
   "outputs": [
    {
     "name": "stderr",
     "output_type": "stream",
     "text": [
      "[nltk_data] Downloading package punkt_tab to\n",
      "[nltk_data]     /Users/kartikeyadatta/nltk_data...\n",
      "[nltk_data]   Package punkt_tab is already up-to-date!\n"
     ]
    },
    {
     "data": {
      "text/plain": [
       "True"
      ]
     },
     "execution_count": 110,
     "metadata": {},
     "output_type": "execute_result"
    }
   ],
   "source": [
    "\n",
    "nltk.download('punkt_tab')"
   ]
  },
  {
   "cell_type": "code",
   "execution_count": 111,
   "metadata": {},
   "outputs": [
    {
     "data": {
      "text/plain": [
       "[\"We are Fighting Dreamers aiming high\\n Fighting Dreamers don't care what people think about them\\n Fighting Dreamers follow what they believe\\n Oli Oli Oli Oh!\",\n",
       " 'Just go my way\\n Right here right now (Bang) Hit it straight like a line drive!',\n",
       " \"Right here right now (Burn)\\n Down a difficult road filled with endless struggles\\n Where do you think you are going following someone else's map?\"]"
      ]
     },
     "execution_count": 111,
     "metadata": {},
     "output_type": "execute_result"
    }
   ],
   "source": [
    "script_sentences = sent_tokenize(script)\n",
    "script_sentences[:3]"
   ]
  },
  {
   "cell_type": "markdown",
   "metadata": {},
   "source": [
    "#### Batching the sentences with size of 20"
   ]
  },
  {
   "cell_type": "code",
   "execution_count": 112,
   "metadata": {},
   "outputs": [],
   "source": [
    "sentence_batch_size = 20\n",
    "script_batches = []\n",
    "for index in range(0, len(script_sentences), sentence_batch_size):\n",
    "    sent = \" \".join(script_sentences[index:index+sentence_batch_size])\n",
    "    script_batches.append(sent)"
   ]
  },
  {
   "cell_type": "code",
   "execution_count": 113,
   "metadata": {},
   "outputs": [
    {
     "data": {
      "text/plain": [
       "[\"We are Fighting Dreamers aiming high\\n Fighting Dreamers don't care what people think about them\\n Fighting Dreamers follow what they believe\\n Oli Oli Oli Oh! Just go my way\\n Right here right now (Bang) Hit it straight like a line drive! Right here right now (Burn)\\n Down a difficult road filled with endless struggles\\n Where do you think you are going following someone else's map? An insightful crow comes along to tear up the map\\n Now open your eyes and take a look at the truth (Yeah!) There's nothing to lose, so let's GO!!! We are Fighting Dreamers aiming high\\n Fighting Dreamers don't care what people think about them\\n Fighting Dreamers follow what they believe\\n Oli Oli Oli Oh! Just go my way\\n Right here right now (Bang) Hit it straight like a line drive! Right here right now (Burn) We're gonna do it and do our best! Right here right now (Bang) Hit it straight like a line drive! Right here right now (Burn) We're gonna do it and do our best! BANG! My body movements have finally returned…\\n Blood…\\n Lady Tsunade! Say! Say! What’s happening?! Why’s Kabuto fighting with Old Lady Tsunade?! Take a good look at the headband! He’s Orochimaru’s subordinate. Attack! Fury of the Rasengan!\",\n",
       " 'That man is Orochimaru…\\n Shizune, you take care of the guy with the glasses…\\n I’ll take care of Orochimaru. Before that, I’d like to have Tsunade do something about this body. The effects of that drug might still last for awhile…\\n There’s nothing that I can do about it. What? Really? Geez. I guess it can’t be helped. I have no choice but to fight in this condition. Tsunade… Rest your body with Recovery Ninjutsu. Then… What about me, me? You guard Tsunade together with that pig. What?! I want to fight, too. Even I can--\\n No, you won’t! Like that four-eyed kid said, right? You’re on a different level. The opponent is a Sannin like myself,\\n and the man who killed the Third Hokage. An eye for an eye… I’m the only one who can fight him. And that four-eyed guy possesses the same level of power as Kakashi. Okay.',\n",
       " 'Then… Shadow Clo--\\n Hold it! Don’t use the Shadow Clone Jutsu. lt’d be utterly pointless. What? It wouldn’t even become much of a diversion…\\n It’d be a waste of Chakra…\\n with them as opponents. Now then, let’s get this thing started. – Summoning Jutsu. – Summoning Jutsu. Hi. – Huh?! – What is this?! – Wha--?! – What the heck’s going on?! Long time no see. On account of the drug,\\n Master Jiraiya still can’t build up Chakra very well. It looks like your stupid still hasn’t healed, eh, Jiraiya. That’s too much even for you with no ability. It seems Tsunade got you with something. A sacrifice was necessary for that Jutsu,\\n so perhaps she was thinking ahead and drugged him\\n with something that would contain his power. To think she’d make a sacrifice of Jiraiya…\\n Well, it sounds just like Tsunade.']"
      ]
     },
     "execution_count": 113,
     "metadata": {},
     "output_type": "execute_result"
    }
   ],
   "source": [
    "script_batches[:3]"
   ]
  },
  {
   "cell_type": "code",
   "execution_count": 114,
   "metadata": {},
   "outputs": [
    {
     "data": {
      "text/plain": [
       "[{'sequence': \"We are Fighting Dreamers aiming high\\n Fighting Dreamers don't care what people think about them\\n Fighting Dreamers follow what they believe\\n Oli Oli Oli Oh! Just go my way\\n Right here right now (Bang) Hit it straight like a line drive! Right here right now (Burn)\\n Down a difficult road filled with endless struggles\\n Where do you think you are going following someone else's map? An insightful crow comes along to tear up the map\\n Now open your eyes and take a look at the truth (Yeah!) There's nothing to lose, so let's GO!!! We are Fighting Dreamers aiming high\\n Fighting Dreamers don't care what people think about them\\n Fighting Dreamers follow what they believe\\n Oli Oli Oli Oh! Just go my way\\n Right here right now (Bang) Hit it straight like a line drive! Right here right now (Burn) We're gonna do it and do our best! Right here right now (Bang) Hit it straight like a line drive! Right here right now (Burn) We're gonna do it and do our best! BANG! My body movements have finally returned…\\n Blood…\\n Lady Tsunade! Say! Say! What’s happening?! Why’s Kabuto fighting with Old Lady Tsunade?! Take a good look at the headband! He’s Orochimaru’s subordinate. Attack! Fury of the Rasengan!\",\n",
       "  'labels': ['dialogue',\n",
       "   'battle',\n",
       "   'self development',\n",
       "   'sacrifice',\n",
       "   'betrayal',\n",
       "   'Loss',\n",
       "   'hope',\n",
       "   'friendship',\n",
       "   'love'],\n",
       "  'scores': [0.21751122176647186,\n",
       "   0.20412367582321167,\n",
       "   0.1695924699306488,\n",
       "   0.13159257173538208,\n",
       "   0.12379090487957001,\n",
       "   0.06726245582103729,\n",
       "   0.05233101174235344,\n",
       "   0.018233347684144974,\n",
       "   0.015562324784696102]},\n",
       " {'sequence': 'That man is Orochimaru…\\n Shizune, you take care of the guy with the glasses…\\n I’ll take care of Orochimaru. Before that, I’d like to have Tsunade do something about this body. The effects of that drug might still last for awhile…\\n There’s nothing that I can do about it. What? Really? Geez. I guess it can’t be helped. I have no choice but to fight in this condition. Tsunade… Rest your body with Recovery Ninjutsu. Then… What about me, me? You guard Tsunade together with that pig. What?! I want to fight, too. Even I can--\\n No, you won’t! Like that four-eyed kid said, right? You’re on a different level. The opponent is a Sannin like myself,\\n and the man who killed the Third Hokage. An eye for an eye… I’m the only one who can fight him. And that four-eyed guy possesses the same level of power as Kakashi. Okay.',\n",
       "  'labels': ['sacrifice',\n",
       "   'battle',\n",
       "   'dialogue',\n",
       "   'self development',\n",
       "   'betrayal',\n",
       "   'friendship',\n",
       "   'Loss',\n",
       "   'hope',\n",
       "   'love'],\n",
       "  'scores': [0.25838884711265564,\n",
       "   0.21366335451602936,\n",
       "   0.1559881865978241,\n",
       "   0.09911166876554489,\n",
       "   0.09235933423042297,\n",
       "   0.07056298106908798,\n",
       "   0.04534672945737839,\n",
       "   0.042227137833833694,\n",
       "   0.022351745516061783]}]"
      ]
     },
     "execution_count": 114,
     "metadata": {},
     "output_type": "execute_result"
    }
   ],
   "source": [
    "theme_output = theme_classifier(\n",
    "    script_batches[:2], # taking the first two batches of sentences for classification\n",
    "    theme_list,\n",
    "    multilabel=True\n",
    ")\n",
    "theme_output"
   ]
  },
  {
   "cell_type": "code",
   "execution_count": 115,
   "metadata": {},
   "outputs": [],
   "source": [
    "# Wrangle output into to batches of themes\n",
    "themes ={}\n",
    "for output in theme_output:\n",
    "    for label, score in zip(output['labels'], output['scores']):\n",
    "        if label not in themes:\n",
    "            themes[label] = []\n",
    "        themes[label].append(score)"
   ]
  },
  {
   "cell_type": "code",
   "execution_count": 116,
   "metadata": {},
   "outputs": [
    {
     "data": {
      "text/plain": [
       "{'dialogue': [0.21751122176647186, 0.1559881865978241],\n",
       " 'battle': [0.20412367582321167, 0.21366335451602936],\n",
       " 'self development': [0.1695924699306488, 0.09911166876554489],\n",
       " 'sacrifice': [0.13159257173538208, 0.25838884711265564],\n",
       " 'betrayal': [0.12379090487957001, 0.09235933423042297],\n",
       " 'Loss': [0.06726245582103729, 0.04534672945737839],\n",
       " 'hope': [0.05233101174235344, 0.042227137833833694],\n",
       " 'friendship': [0.018233347684144974, 0.07056298106908798],\n",
       " 'love': [0.015562324784696102, 0.022351745516061783]}"
      ]
     },
     "execution_count": 116,
     "metadata": {},
     "output_type": "execute_result"
    }
   ],
   "source": [
    "themes"
   ]
  },
  {
   "cell_type": "code",
   "execution_count": 117,
   "metadata": {},
   "outputs": [],
   "source": [
    "def get_themes_inference(script):\n",
    "    script_sentences = sent_tokenize(script)\n",
    "    \n",
    "    sentence_batch_size = 20\n",
    "    script_batches = []\n",
    "    for index in range(0, len(script_sentences), sentence_batch_size):\n",
    "        sent = \" \".join(script_sentences[index:index+sentence_batch_size])\n",
    "        script_batches.append(sent)\n",
    "        \n",
    "    # Run the model\n",
    "    theme_output = theme_classifier(\n",
    "        script_batches[:2],     #[:2], to reduce stress on my CPU 😂\n",
    "        theme_list,\n",
    "        multilabel=True\n",
    "    )\n",
    "    theme_output\n",
    "    \n",
    "    # Wrangle output into to batches of themes\n",
    "    themes ={}\n",
    "    for output in theme_output:\n",
    "        for label, score in zip(output['labels'], output['scores']):\n",
    "            if label not in themes:\n",
    "                themes[label] = []\n",
    "            themes[label].append(score)\n",
    "            \n",
    "    themes = {key: np.mean(np.array(value)) for key,value in themes.items()}\n",
    "    return themes"
   ]
  },
  {
   "cell_type": "code",
   "execution_count": 118,
   "metadata": {},
   "outputs": [],
   "source": [
    "df = df[:2] #same here stress on my CPU 😂\n",
    "output_themes = df['script'].apply(get_themes_inference)"
   ]
  },
  {
   "cell_type": "code",
   "execution_count": 119,
   "metadata": {},
   "outputs": [
    {
     "data": {
      "text/plain": [
       "0    {'dialogue': 0.18674970418214798, 'battle': 0....\n",
       "1    {'sacrifice': 0.13815860822796822, 'battle': 0...\n",
       "Name: script, dtype: object"
      ]
     },
     "execution_count": 119,
     "metadata": {},
     "output_type": "execute_result"
    }
   ],
   "source": [
    "output_themes"
   ]
  },
  {
   "cell_type": "code",
   "execution_count": 120,
   "metadata": {},
   "outputs": [
    {
     "name": "stdout",
     "output_type": "stream",
     "text": [
      "   dialogue    battle  self development  sacrifice  betrayal      Loss  \\\n",
      "0  0.186750  0.208894          0.134352   0.194991  0.108075  0.056305   \n",
      "1  0.275307  0.175646          0.121431   0.138159  0.084363  0.088783   \n",
      "\n",
      "       hope  friendship      love  \n",
      "0  0.047279    0.044398  0.018957  \n",
      "1  0.056077    0.041647  0.018589  \n"
     ]
    }
   ],
   "source": [
    "print(pd.DataFrame(output_themes.tolist()).head())\n",
    "theme_df = pd.DataFrame(output_themes.tolist())"
   ]
  },
  {
   "cell_type": "code",
   "execution_count": 121,
   "metadata": {},
   "outputs": [
    {
     "data": {
      "text/html": [
       "<div>\n",
       "<style scoped>\n",
       "    .dataframe tbody tr th:only-of-type {\n",
       "        vertical-align: middle;\n",
       "    }\n",
       "\n",
       "    .dataframe tbody tr th {\n",
       "        vertical-align: top;\n",
       "    }\n",
       "\n",
       "    .dataframe thead th {\n",
       "        text-align: right;\n",
       "    }\n",
       "</style>\n",
       "<table border=\"1\" class=\"dataframe\">\n",
       "  <thead>\n",
       "    <tr style=\"text-align: right;\">\n",
       "      <th></th>\n",
       "      <th>dialogue</th>\n",
       "      <th>battle</th>\n",
       "      <th>self development</th>\n",
       "      <th>sacrifice</th>\n",
       "      <th>betrayal</th>\n",
       "      <th>Loss</th>\n",
       "      <th>hope</th>\n",
       "      <th>friendship</th>\n",
       "      <th>love</th>\n",
       "    </tr>\n",
       "  </thead>\n",
       "  <tbody>\n",
       "    <tr>\n",
       "      <th>0</th>\n",
       "      <td>0.186750</td>\n",
       "      <td>0.208894</td>\n",
       "      <td>0.134352</td>\n",
       "      <td>0.194991</td>\n",
       "      <td>0.108075</td>\n",
       "      <td>0.056305</td>\n",
       "      <td>0.047279</td>\n",
       "      <td>0.044398</td>\n",
       "      <td>0.018957</td>\n",
       "    </tr>\n",
       "    <tr>\n",
       "      <th>1</th>\n",
       "      <td>0.275307</td>\n",
       "      <td>0.175646</td>\n",
       "      <td>0.121431</td>\n",
       "      <td>0.138159</td>\n",
       "      <td>0.084363</td>\n",
       "      <td>0.088783</td>\n",
       "      <td>0.056077</td>\n",
       "      <td>0.041647</td>\n",
       "      <td>0.018589</td>\n",
       "    </tr>\n",
       "  </tbody>\n",
       "</table>\n",
       "</div>"
      ],
      "text/plain": [
       "   dialogue    battle  self development  sacrifice  betrayal      Loss  \\\n",
       "0  0.186750  0.208894          0.134352   0.194991  0.108075  0.056305   \n",
       "1  0.275307  0.175646          0.121431   0.138159  0.084363  0.088783   \n",
       "\n",
       "       hope  friendship      love  \n",
       "0  0.047279    0.044398  0.018957  \n",
       "1  0.056077    0.041647  0.018589  "
      ]
     },
     "execution_count": 121,
     "metadata": {},
     "output_type": "execute_result"
    }
   ],
   "source": [
    "theme_df"
   ]
  },
  {
   "cell_type": "code",
   "execution_count": 122,
   "metadata": {},
   "outputs": [
    {
     "data": {
      "text/html": [
       "<div>\n",
       "<style scoped>\n",
       "    .dataframe tbody tr th:only-of-type {\n",
       "        vertical-align: middle;\n",
       "    }\n",
       "\n",
       "    .dataframe tbody tr th {\n",
       "        vertical-align: top;\n",
       "    }\n",
       "\n",
       "    .dataframe thead th {\n",
       "        text-align: right;\n",
       "    }\n",
       "</style>\n",
       "<table border=\"1\" class=\"dataframe\">\n",
       "  <thead>\n",
       "    <tr style=\"text-align: right;\">\n",
       "      <th></th>\n",
       "      <th>episode</th>\n",
       "      <th>script</th>\n",
       "      <th>dialogue</th>\n",
       "      <th>battle</th>\n",
       "      <th>self development</th>\n",
       "      <th>sacrifice</th>\n",
       "      <th>betrayal</th>\n",
       "      <th>Loss</th>\n",
       "      <th>hope</th>\n",
       "      <th>friendship</th>\n",
       "      <th>love</th>\n",
       "    </tr>\n",
       "  </thead>\n",
       "  <tbody>\n",
       "    <tr>\n",
       "      <th>0</th>\n",
       "      <td>94</td>\n",
       "      <td>We are Fighting Dreamers aiming high\\n Fightin...</td>\n",
       "      <td>0.186750</td>\n",
       "      <td>0.208894</td>\n",
       "      <td>0.134352</td>\n",
       "      <td>0.194991</td>\n",
       "      <td>0.108075</td>\n",
       "      <td>0.056305</td>\n",
       "      <td>0.047279</td>\n",
       "      <td>0.044398</td>\n",
       "      <td>0.018957</td>\n",
       "    </tr>\n",
       "    <tr>\n",
       "      <th>1</th>\n",
       "      <td>80</td>\n",
       "      <td>We are Fighting Dreamers aiming high\\n Fightin...</td>\n",
       "      <td>0.275307</td>\n",
       "      <td>0.175646</td>\n",
       "      <td>0.121431</td>\n",
       "      <td>0.138159</td>\n",
       "      <td>0.084363</td>\n",
       "      <td>0.088783</td>\n",
       "      <td>0.056077</td>\n",
       "      <td>0.041647</td>\n",
       "      <td>0.018589</td>\n",
       "    </tr>\n",
       "  </tbody>\n",
       "</table>\n",
       "</div>"
      ],
      "text/plain": [
       "   episode                                             script  dialogue  \\\n",
       "0       94  We are Fighting Dreamers aiming high\\n Fightin...  0.186750   \n",
       "1       80  We are Fighting Dreamers aiming high\\n Fightin...  0.275307   \n",
       "\n",
       "     battle  self development  sacrifice  betrayal      Loss      hope  \\\n",
       "0  0.208894          0.134352   0.194991  0.108075  0.056305  0.047279   \n",
       "1  0.175646          0.121431   0.138159  0.084363  0.088783  0.056077   \n",
       "\n",
       "   friendship      love  \n",
       "0    0.044398  0.018957  \n",
       "1    0.041647  0.018589  "
      ]
     },
     "execution_count": 122,
     "metadata": {},
     "output_type": "execute_result"
    }
   ],
   "source": [
    "df[theme_df.columns] = theme_df\n",
    "df"
   ]
  },
  {
   "cell_type": "markdown",
   "metadata": {},
   "source": [
    "### Visualize Output"
   ]
  },
  {
   "cell_type": "code",
   "execution_count": 123,
   "metadata": {},
   "outputs": [
    {
     "data": {
      "text/html": [
       "<div>\n",
       "<style scoped>\n",
       "    .dataframe tbody tr th:only-of-type {\n",
       "        vertical-align: middle;\n",
       "    }\n",
       "\n",
       "    .dataframe tbody tr th {\n",
       "        vertical-align: top;\n",
       "    }\n",
       "\n",
       "    .dataframe thead th {\n",
       "        text-align: right;\n",
       "    }\n",
       "</style>\n",
       "<table border=\"1\" class=\"dataframe\">\n",
       "  <thead>\n",
       "    <tr style=\"text-align: right;\">\n",
       "      <th></th>\n",
       "      <th>episode</th>\n",
       "      <th>script</th>\n",
       "      <th>battle</th>\n",
       "      <th>self development</th>\n",
       "      <th>sacrifice</th>\n",
       "      <th>betrayal</th>\n",
       "      <th>Loss</th>\n",
       "      <th>hope</th>\n",
       "      <th>friendship</th>\n",
       "      <th>love</th>\n",
       "    </tr>\n",
       "  </thead>\n",
       "  <tbody>\n",
       "    <tr>\n",
       "      <th>0</th>\n",
       "      <td>94</td>\n",
       "      <td>We are Fighting Dreamers aiming high\\n Fightin...</td>\n",
       "      <td>0.208894</td>\n",
       "      <td>0.134352</td>\n",
       "      <td>0.194991</td>\n",
       "      <td>0.108075</td>\n",
       "      <td>0.056305</td>\n",
       "      <td>0.047279</td>\n",
       "      <td>0.044398</td>\n",
       "      <td>0.018957</td>\n",
       "    </tr>\n",
       "    <tr>\n",
       "      <th>1</th>\n",
       "      <td>80</td>\n",
       "      <td>We are Fighting Dreamers aiming high\\n Fightin...</td>\n",
       "      <td>0.175646</td>\n",
       "      <td>0.121431</td>\n",
       "      <td>0.138159</td>\n",
       "      <td>0.084363</td>\n",
       "      <td>0.088783</td>\n",
       "      <td>0.056077</td>\n",
       "      <td>0.041647</td>\n",
       "      <td>0.018589</td>\n",
       "    </tr>\n",
       "  </tbody>\n",
       "</table>\n",
       "</div>"
      ],
      "text/plain": [
       "   episode                                             script    battle  \\\n",
       "0       94  We are Fighting Dreamers aiming high\\n Fightin...  0.208894   \n",
       "1       80  We are Fighting Dreamers aiming high\\n Fightin...  0.175646   \n",
       "\n",
       "   self development  sacrifice  betrayal      Loss      hope  friendship  \\\n",
       "0          0.134352   0.194991  0.108075  0.056305  0.047279    0.044398   \n",
       "1          0.121431   0.138159  0.084363  0.088783  0.056077    0.041647   \n",
       "\n",
       "       love  \n",
       "0  0.018957  \n",
       "1  0.018589  "
      ]
     },
     "execution_count": 123,
     "metadata": {},
     "output_type": "execute_result"
    }
   ],
   "source": [
    "df = df.drop('dialogue', axis=1)\n",
    "df"
   ]
  },
  {
   "cell_type": "code",
   "execution_count": 124,
   "metadata": {},
   "outputs": [
    {
     "data": {
      "text/html": [
       "<div>\n",
       "<style scoped>\n",
       "    .dataframe tbody tr th:only-of-type {\n",
       "        vertical-align: middle;\n",
       "    }\n",
       "\n",
       "    .dataframe tbody tr th {\n",
       "        vertical-align: top;\n",
       "    }\n",
       "\n",
       "    .dataframe thead th {\n",
       "        text-align: right;\n",
       "    }\n",
       "</style>\n",
       "<table border=\"1\" class=\"dataframe\">\n",
       "  <thead>\n",
       "    <tr style=\"text-align: right;\">\n",
       "      <th></th>\n",
       "      <th>theme</th>\n",
       "      <th>score</th>\n",
       "    </tr>\n",
       "  </thead>\n",
       "  <tbody>\n",
       "    <tr>\n",
       "      <th>0</th>\n",
       "      <td>battle</td>\n",
       "      <td>0.384539</td>\n",
       "    </tr>\n",
       "    <tr>\n",
       "      <th>1</th>\n",
       "      <td>self development</td>\n",
       "      <td>0.255783</td>\n",
       "    </tr>\n",
       "    <tr>\n",
       "      <th>2</th>\n",
       "      <td>sacrifice</td>\n",
       "      <td>0.333149</td>\n",
       "    </tr>\n",
       "    <tr>\n",
       "      <th>3</th>\n",
       "      <td>betrayal</td>\n",
       "      <td>0.192438</td>\n",
       "    </tr>\n",
       "    <tr>\n",
       "      <th>4</th>\n",
       "      <td>Loss</td>\n",
       "      <td>0.145087</td>\n",
       "    </tr>\n",
       "    <tr>\n",
       "      <th>5</th>\n",
       "      <td>hope</td>\n",
       "      <td>0.103356</td>\n",
       "    </tr>\n",
       "    <tr>\n",
       "      <th>6</th>\n",
       "      <td>friendship</td>\n",
       "      <td>0.086046</td>\n",
       "    </tr>\n",
       "    <tr>\n",
       "      <th>7</th>\n",
       "      <td>love</td>\n",
       "      <td>0.037546</td>\n",
       "    </tr>\n",
       "  </tbody>\n",
       "</table>\n",
       "</div>"
      ],
      "text/plain": [
       "              theme     score\n",
       "0            battle  0.384539\n",
       "1  self development  0.255783\n",
       "2         sacrifice  0.333149\n",
       "3          betrayal  0.192438\n",
       "4              Loss  0.145087\n",
       "5              hope  0.103356\n",
       "6        friendship  0.086046\n",
       "7              love  0.037546"
      ]
     },
     "execution_count": 124,
     "metadata": {},
     "output_type": "execute_result"
    }
   ],
   "source": [
    "theme_output = df.drop(['episode', 'script'], axis=1).sum().reset_index()\n",
    "theme_output.columns = ['theme', 'score']\n",
    "theme_output"
   ]
  },
  {
   "cell_type": "code",
   "execution_count": 125,
   "metadata": {},
   "outputs": [
    {
     "data": {
      "image/png": "[encoded data removed]",
      "text/plain": [
       "<Figure size 640x480 with 1 Axes>"
      ]
     },
     "metadata": {},
     "output_type": "display_data"
    }
   ],
   "source": [
    "sns.barplot(data=theme_output, x='theme', y='score')\n",
    "plt.xticks(rotation=45)\n",
    "plt.title('Theme Distribution')\n",
    "plt.show()"
   ]
  }
 ],
 "metadata": {
  "kernelspec": {
   "display_name": "myenv",
   "language": "python",
   "name": "python3"
  },
  "language_info": {
   "codemirror_mode": {
    "name": "ipython",
    "version": 3
   },
   "file_extension": ".py",
   "mimetype": "text/x-python",
   "name": "python",
   "nbconvert_exporter": "python",
   "pygments_lexer": "ipython3",
   "version": "3.12.7"
  }
 },
 "nbformat": 4,
 "nbformat_minor": 2
}
