{
 "cells": [
  {
   "cell_type": "markdown",
   "metadata": {},
   "source": [
    "### Named Entity Recognition"
   ]
  },
  {
   "cell_type": "code",
   "execution_count": 1,
   "metadata": {},
   "outputs": [],
   "source": [
    "import spacy\n",
    "from nltk import sent_tokenize"
   ]
  },
  {
   "cell_type": "code",
   "execution_count": 2,
   "metadata": {},
   "outputs": [
    {
     "name": "stdout",
     "output_type": "stream",
     "text": [
      "Collecting en-core-web-trf==3.8.0\n",
      "  Downloading https://github.com/explosion/spacy-models/releases/download/en_core_web_trf-3.8.0/en_core_web_trf-3.8.0-py3-none-any.whl (457.4 MB)\n",
      "\u001b[2K     \u001b[90m━━━━━━━━━━━━━━━━━━━━━━━━━━━━━━━━━━━━━━\u001b[0m \u001b[32m457.4/457.4 MB\u001b[0m \u001b[31m13.9 MB/s\u001b[0m eta \u001b[36m0:00:00\u001b[0m00:01\u001b[0m00:02\u001b[0m\n",
      "\u001b[?25hRequirement already satisfied: spacy-curated-transformers<1.0.0,>=0.2.2 in /opt/anaconda3/lib/python3.12/site-packages (from en-core-web-trf==3.8.0) (0.3.0)\n",
      "Requirement already satisfied: curated-transformers<0.2.0,>=0.1.0 in /opt/anaconda3/lib/python3.12/site-packages (from spacy-curated-transformers<1.0.0,>=0.2.2->en-core-web-trf==3.8.0) (0.1.1)\n",
      "Requirement already satisfied: curated-tokenizers<0.1.0,>=0.0.9 in /opt/anaconda3/lib/python3.12/site-packages (from spacy-curated-transformers<1.0.0,>=0.2.2->en-core-web-trf==3.8.0) (0.0.9)\n",
      "Requirement already satisfied: torch>=1.12.0 in /opt/anaconda3/lib/python3.12/site-packages (from spacy-curated-transformers<1.0.0,>=0.2.2->en-core-web-trf==3.8.0) (2.3.1.post100)\n",
      "Requirement already satisfied: regex>=2022 in /opt/anaconda3/lib/python3.12/site-packages (from curated-tokenizers<0.1.0,>=0.0.9->spacy-curated-transformers<1.0.0,>=0.2.2->en-core-web-trf==3.8.0) (2024.9.11)\n",
      "Requirement already satisfied: filelock in /opt/anaconda3/lib/python3.12/site-packages (from torch>=1.12.0->spacy-curated-transformers<1.0.0,>=0.2.2->en-core-web-trf==3.8.0) (3.13.1)\n",
      "Requirement already satisfied: typing-extensions>=4.8.0 in /opt/anaconda3/lib/python3.12/site-packages (from torch>=1.12.0->spacy-curated-transformers<1.0.0,>=0.2.2->en-core-web-trf==3.8.0) (4.11.0)\n",
      "Requirement already satisfied: sympy in /opt/anaconda3/lib/python3.12/site-packages (from torch>=1.12.0->spacy-curated-transformers<1.0.0,>=0.2.2->en-core-web-trf==3.8.0) (1.13.1)\n",
      "Requirement already satisfied: networkx in /opt/anaconda3/lib/python3.12/site-packages (from torch>=1.12.0->spacy-curated-transformers<1.0.0,>=0.2.2->en-core-web-trf==3.8.0) (3.3)\n",
      "Requirement already satisfied: jinja2 in /opt/anaconda3/lib/python3.12/site-packages (from torch>=1.12.0->spacy-curated-transformers<1.0.0,>=0.2.2->en-core-web-trf==3.8.0) (3.1.4)\n",
      "Requirement already satisfied: fsspec in /opt/anaconda3/lib/python3.12/site-packages (from torch>=1.12.0->spacy-curated-transformers<1.0.0,>=0.2.2->en-core-web-trf==3.8.0) (2024.6.1)\n",
      "Requirement already satisfied: MarkupSafe>=2.0 in /opt/anaconda3/lib/python3.12/site-packages (from jinja2->torch>=1.12.0->spacy-curated-transformers<1.0.0,>=0.2.2->en-core-web-trf==3.8.0) (2.1.3)\n",
      "Requirement already satisfied: mpmath<1.4,>=1.1.0 in /opt/anaconda3/lib/python3.12/site-packages (from sympy->torch>=1.12.0->spacy-curated-transformers<1.0.0,>=0.2.2->en-core-web-trf==3.8.0) (1.3.0)\n",
      "\u001b[38;5;2m✔ Download and installation successful\u001b[0m\n",
      "You can now load the package via spacy.load('en_core_web_trf')\n"
     ]
    }
   ],
   "source": [
    "!python -m spacy download en_core_web_trf"
   ]
  },
  {
   "cell_type": "markdown",
   "metadata": {},
   "source": [
    "### Load the model"
   ]
  },
  {
   "cell_type": "code",
   "execution_count": 69,
   "metadata": {},
   "outputs": [],
   "source": [
    "def load_model():\n",
    "    \"\"\"\n",
    "    Load the spaCy transformer model.\n",
    "    \"\"\"\n",
    "    nlp = spacy.load(\"en_core_web_trf\")\n",
    "    return nlp"
   ]
  },
  {
   "cell_type": "code",
   "execution_count": 70,
   "metadata": {},
   "outputs": [],
   "source": [
    "nlp_model = load_model()"
   ]
  },
  {
   "cell_type": "markdown",
   "metadata": {},
   "source": [
    "### Load the datatset"
   ]
  },
  {
   "cell_type": "code",
   "execution_count": 71,
   "metadata": {},
   "outputs": [],
   "source": [
    "import os \n",
    "import sys\n",
    "import pathlib\n",
    "folder_path = pathlib.Path().parent.resolve()\n",
    "sys.path.append(os.path.join(folder_path, '../'))\n",
    "from utils import load_subtitles_dataset"
   ]
  },
  {
   "cell_type": "code",
   "execution_count": 72,
   "metadata": {},
   "outputs": [],
   "source": [
    "dataset_path = '../data/Subtitles/'\n",
    "df = load_subtitles_dataset(dataset_path)"
   ]
  },
  {
   "cell_type": "code",
   "execution_count": 73,
   "metadata": {},
   "outputs": [
    {
     "data": {
      "text/html": [
       "<div>\n",
       "<style scoped>\n",
       "    .dataframe tbody tr th:only-of-type {\n",
       "        vertical-align: middle;\n",
       "    }\n",
       "\n",
       "    .dataframe tbody tr th {\n",
       "        vertical-align: top;\n",
       "    }\n",
       "\n",
       "    .dataframe thead th {\n",
       "        text-align: right;\n",
       "    }\n",
       "</style>\n",
       "<table border=\"1\" class=\"dataframe\">\n",
       "  <thead>\n",
       "    <tr style=\"text-align: right;\">\n",
       "      <th></th>\n",
       "      <th>episode</th>\n",
       "      <th>script</th>\n",
       "    </tr>\n",
       "  </thead>\n",
       "  <tbody>\n",
       "    <tr>\n",
       "      <th>0</th>\n",
       "      <td>94</td>\n",
       "      <td>We are Fighting Dreamers aiming high\\n Fightin...</td>\n",
       "    </tr>\n",
       "    <tr>\n",
       "      <th>1</th>\n",
       "      <td>80</td>\n",
       "      <td>We are Fighting Dreamers aiming high\\n Fightin...</td>\n",
       "    </tr>\n",
       "    <tr>\n",
       "      <th>2</th>\n",
       "      <td>32</td>\n",
       "      <td>Press down hard on the gas\\n That’s right, the...</td>\n",
       "    </tr>\n",
       "    <tr>\n",
       "      <th>3</th>\n",
       "      <td>185</td>\n",
       "      <td>Rock away your existence,\\n Shouting that you ...</td>\n",
       "    </tr>\n",
       "    <tr>\n",
       "      <th>4</th>\n",
       "      <td>191</td>\n",
       "      <td>Rock away your existence,\\n Shouting that you ...</td>\n",
       "    </tr>\n",
       "  </tbody>\n",
       "</table>\n",
       "</div>"
      ],
      "text/plain": [
       "   episode                                             script\n",
       "0       94  We are Fighting Dreamers aiming high\\n Fightin...\n",
       "1       80  We are Fighting Dreamers aiming high\\n Fightin...\n",
       "2       32  Press down hard on the gas\\n That’s right, the...\n",
       "3      185  Rock away your existence,\\n Shouting that you ...\n",
       "4      191  Rock away your existence,\\n Shouting that you ..."
      ]
     },
     "execution_count": 73,
     "metadata": {},
     "output_type": "execute_result"
    }
   ],
   "source": [
    "df.head()"
   ]
  },
  {
   "cell_type": "code",
   "execution_count": 74,
   "metadata": {},
   "outputs": [
    {
     "data": {
      "text/plain": [
       "'We are Fighting Dreamers aiming high\\n Fighting Dreamers don\\'t care what people think about them\\n Fighting Dreamers follow what they believe\\n Oli Oli Oli Oh! Just go my way\\n Right here right now (Bang) Hit it straight like a line drive!\\n Right here right now (Burn)\\n Down a difficult road filled with endless struggles\\n Where do you think you are going following someone else\\'s map?\\n An insightful crow comes along to tear up the map\\n Now open your eyes and take a look at the truth (Yeah!)\\n There\\'s nothing to lose, so let\\'s GO!!!\\n We are Fighting Dreamers aiming high\\n Fighting Dreamers don\\'t care what people think about them\\n Fighting Dreamers follow what they believe\\n Oli Oli Oli Oh! Just go my way\\n Right here right now (Bang) Hit it straight like a line drive!\\n Right here right now (Burn) We\\'re gonna do it and do our best!\\n Right here right now (Bang) Hit it straight like a line drive!\\n Right here right now (Burn) We\\'re gonna do it and do our best! BANG!\\n My body movements have finally returned…\\n Blood…\\n Lady Tsunade!\\n Say! Say! What’s happening?!\\n Why’s Kabuto fighting with Old Lady Tsunade?!\\n Take a good look at the headband!\\n He’s Orochimaru’s subordinate.\\n Attack! Fury of the Rasengan!\\n That man is Orochimaru…\\n Shizune, you take care of the guy with the glasses…\\n I’ll take care of Orochimaru.\\n Before that, I’d like to have Tsunade do something about this body.\\n The effects of that drug might still last for awhile…\\n There’s nothing that I can do about it.\\n What? Really?\\n Geez. I guess it can’t be helped.\\n I have no choice but to fight in this condition.\\n Tsunade… Rest your body with Recovery Ninjutsu.\\n Then… What about me, me?\\n You guard Tsunade together with that pig.\\n What?! I want to fight, too. Even I can--\\n No, you won’t!\\n Like that four-eyed kid said, right?\\n You’re on a different level.\\n The opponent is a Sannin like myself,\\n and the man who killed the Third Hokage.\\n An eye for an eye… I’m the only one who can fight him.\\n And that four-eyed guy possesses the same level of power as Kakashi.\\n Okay.\\n Then… Shadow Clo--\\n Hold it!\\n Don’t use the Shadow Clone Jutsu. lt’d be utterly pointless.\\n What?\\n It wouldn’t even become much of a diversion…\\n It’d be a waste of Chakra…\\n with them as opponents.\\n Now then, let’s get this thing started.\\n – Summoning Jutsu. – Summoning Jutsu.\\n Hi.\\n – Huh?! \\t\\t\\t\\t\\t– What is this?!\\n – Wha--?! – What the heck’s going on?!\\n Long time no see.\\n On account of the drug,\\n Master Jiraiya still can’t build up Chakra very well.\\n It looks like your stupid still hasn’t healed, eh, Jiraiya.\\n That’s too much even for you with no ability.\\n It seems Tsunade got you with something.\\n A sacrifice was necessary for that Jutsu,\\n so perhaps she was thinking ahead and drugged him\\n with something that would contain his power.\\n To think she’d make a sacrifice of Jiraiya…\\n Well, it sounds just like Tsunade.\\n To think I’d already have my handicap spotted.\\n You are such a disgraceful guy as always…\\n Dang it. It kind of ticks me off when the Pervy Sage is mocked.\\n Summoning…Jutsu!\\n The Nine-Tailed Fox kid from the Chunin Exam.\\n I wonder if I should’ve killed him then, after all.\\n For the sake of the Akatsuki organization,\\n I acknowledged his achievement… and let him slide by.\\n But the only ones who can break a Five-Pronged Spell\\n are the Sannin members and the Third Hokage.\\n Which means Jiraiya may have already taught it to Naruto.\\n Perhaps.\\n If he’s able to control the Nine-Tailed Fox’s power…\\n Oh…\\n Th-This is…\\n It doesn’t quite look to be so.\\n He isn’t endowed with Shinobi ability to begin with, so…\\n Why?\\n He’s still got a long way to go, sure enough.\\n Why?!\\n Hello.\\n Hey, Gamatatsu. Why did you come out?\\n Oh, Brother Gamakichi.\\n It’s the first time I’ve been Summoned.\\n I-I wonder if I can do my best?\\n Idiot. Get some snacks or something and hide.\\n What? I can get snacks? Goody-goody.\\n Here I go.\\n I’ll take Jiraiya.\\n I leave the rest to you.\\n It’s unfortunate…\\n Here I also wanted to fight Lord Jiraiya, one of the Sannin.\\n Naruto!\\n Your opponent is me.\\n Earth Style! Dark Swamp!\\n Dang it. I can’t completely sink them with such a puny swamp.\\n The drug is still working.\\n But…with this, the snakes can’t move.\\n Ninja Art! Poison Fog!\\n I’ll be up a creek if I take even one breath.\\n My leg tendons…!\\n I won’t be eaten twice…! No way!\\n Here I go.\\n Ninja Art! Needle Jizo!\\n Dang it…The Jutsu isn’t working well.\\n Even if we both have handicaps, you won’t one-up me…\\n Give up now.\\n It’s unfortunate…\\n Here I had respected you as a fellow Medical Ninja.\\n Stop. Stay back!\\n Please hang on, Lady Tsunade…\\n The Sannin name, which Lord Orochimaru is also called, will cry.\\n My body’s heavy.\\n To think you who were once called the village madness\\n would ferry around such a kid and struggle tirelessly for the village.\\n You’ve really fallen, haven’t you?\\n I have a keen eye to discern ability.\\n And that kid…is mediocrity in my eyes.\\n It’s precisely for this reason… that I don’t need the Uchiha kid.\\n It’s no fun raising a genius who’s good from the start.\\n So you can’t leave him alone\\n because it’s like you’re looking at your old self?\\n That kid can’t beat Uchiha who inherited the inherent Sharingan Shinobi skill.\\n And that’s because Naruto doesn’t possess the Sharingan.\\n Shinobi ability is about whether\\n one can use and master all the Jutsu of the world.\\n Ninja refers to one who can use Ninjutsu.\\n Shinobi ability is no such thing.\\n You still don’t get it?\\n A Ninja…is one who endures.\\n It’s a difference of opinion, huh.\\n I’ll teach you one thing.\\n What’s most important for Shinobi ability…\\n isn’t the number of Jutsu one possesses.\\n What’s important is…\\n The mettle…\\n not to give up.\\n Enough already…you jerk!\\n The mettle to never give up…\\n He possesses that.\\n Heh. I don’t know what Jutsu you learned,\\n but you can’t hit me with such a large motion.\\n No good.\\n It won’t easily hit with a moving opponent.\\n Owwee!\\n And the Chakra isn’t completely held, yet…\\n It seems you got a cracked thigh bone in your left leg\\n from the battle with the snake.\\n Well, you can still move if it’s just the bone.\\n But it’s impossible now…\\n The lateral vastus muscle in your right leg is totally cut off.\\n What should I do…?\\n That Jutsu of mine uses both hands.\\n If even one arm is taken out, it’s over.\\n Are you scared of me?\\n Do you want to run away from here?\\n Naruto, as I recall,\\n you whooped it up like this during the first Chunin Exam.\\n Don’t mess with me. I won’t run away!\\n \"Don’t mess with me. I won’t run away.\"\\n \"I’ll take it. Even if I’m a Genin for life…\"\\n \"I’ll become the Hokage at any cost, so it’s okay with me.\"\\n \"I’m not scared.\"\\n Can you… whoop it up in the same way now?\\n Unlike you…\\n I will be the heir to the Hokage name no matter what!\\n – Hokage is my dream! – Hokage is my dream!\\n You’re not a kid anymore, so you should stop whooping it up…\\n Depending on the situation,\\n when you want to give up and run away, you should run away.\\n Oh my… What’s with that look?\\n You’ll die! If you die, there are no dreams or anything…\\n Do you want to die?\\n You’re still a Genin, so you should run away on the battlefield.\\n Don’t tell a man to run away.\\n Kids think that everything is easy.\\n That’s why they talk about foolish dreams like nothing at all.\\n That’s why they can’t give up.\\n Jiraiya, was it you who taught him that Rasengan?\\n Are you acting like a teacher by teaching a Jutsu that can’t be learned?\\n Don’t give him false hopes.\\n That’s why a moony kid starts joking that he’ll become the Hokage!\\n They chase after foolish dreams… and then die.\\n If I have three days, I’ll master that Jutsu.\\n Then let\\'s make a bet.\\n Bastard!\\n As for me… I stand by my words.\\n That’s…my Way of Ninja!\\n A bet?\\n I’ll give you one week.\\n If you can master that Jutsu,\\n I’ll acknowledge that you’ll be able to become the Hokage…\\n and give you this necklace.\\n You should’ve just stayed out of this…\\n Why?\\n Why?!\\n Old Lady Tsunade…\\n You’re still going to get up?\\n Just like our wager\\n I will definitely win that unlucky necklace from you.\\n Shadow Clone Jutsu!\\n Shadow Clone won’t do anything now.\\n Enough… Don’t protect me, Naruto. Stop it!\\n I told you that you’d die if you were obstinate like that, right?\\n If you die, there will be no dreams, no nothing.\\n Just get out of the way. Run away.\\n Humph… It’s okay.\\n I…\\n I absolutely will not die…\\n until I become the Hokage!\\n This way, I can hold on to you. Here I go!\\n It’s the same Chakra movement as before.\\n No, this is…different.\\n I see.\\n In order to gain a hand for suppressing Chakra,\\n the Shadow Clone…\\n Compress Chakra and…\\n hold it completely.\\n Wha--?!\\n I-It can’t be.\\n Rasengan!\\n I believe your promise, its a true heart give me courage\\n Always I feel it the precious time with you\\n On your still shoulder\\n I feel the wind that blows towards tomorrow\\n The city lights are like pieces of stars\\n That hold us together\\n “Each one of us glows differently,”\\n you say laughingly\\n but you look most dazzling\\n Like a comet,\\n like the rainbow after the storm\\n You bring light into my heart\\n Being lost can be the answer\\n Let’s promise we won’t cheat\\n Uh... like a shooting star, we do go ahead.\\n I never forget my ideal…\\n to develop the Village Hidden in the Leaf and protect its people.\\n The Hokages have sacrificed their lives for that dream.\\n And now, I also will put my life on the line.\\n From this moment, I am the Fifth Hokage!\\n Next time: \"The Fifth Hokage! A Life on the Line!\"\\n'"
      ]
     },
     "execution_count": 74,
     "metadata": {},
     "output_type": "execute_result"
    }
   ],
   "source": [
    "sample_script = df.iloc[0]['script']\n",
    "sample_script"
   ]
  },
  {
   "cell_type": "code",
   "execution_count": 75,
   "metadata": {},
   "outputs": [
    {
     "data": {
      "text/plain": [
       "['To think I’d already have my handicap spotted.',\n",
       " 'You are such a disgraceful guy as always…\\n Dang it.',\n",
       " 'It kind of ticks me off when the Pervy Sage is mocked.',\n",
       " 'Summoning…Jutsu!',\n",
       " 'The Nine-Tailed Fox kid from the Chunin Exam.',\n",
       " 'I wonder if I should’ve killed him then, after all.',\n",
       " 'For the sake of the Akatsuki organization,\\n I acknowledged his achievement… and let him slide by.',\n",
       " 'But the only ones who can break a Five-Pronged Spell\\n are the Sannin members and the Third Hokage.',\n",
       " 'Which means Jiraiya may have already taught it to Naruto.',\n",
       " 'Perhaps.',\n",
       " 'If he’s able to control the Nine-Tailed Fox’s power…\\n Oh…\\n Th-This is…\\n It doesn’t quite look to be so.',\n",
       " 'He isn’t endowed with Shinobi ability to begin with, so…\\n Why?',\n",
       " 'He’s still got a long way to go, sure enough.',\n",
       " 'Why?!',\n",
       " 'Hello.',\n",
       " 'Hey, Gamatatsu.',\n",
       " 'Why did you come out?',\n",
       " 'Oh, Brother Gamakichi.',\n",
       " 'It’s the first time I’ve been Summoned.',\n",
       " 'I-I wonder if I can do my best?',\n",
       " 'Idiot.',\n",
       " 'Get some snacks or something and hide.',\n",
       " 'What?',\n",
       " 'I can get snacks?',\n",
       " 'Goody-goody.',\n",
       " 'Here I go.',\n",
       " 'I’ll take Jiraiya.',\n",
       " 'I leave the rest to you.',\n",
       " 'It’s unfortunate…\\n Here I also wanted to fight Lord Jiraiya, one of the Sannin.',\n",
       " 'Naruto!']"
      ]
     },
     "execution_count": 75,
     "metadata": {},
     "output_type": "execute_result"
    }
   ],
   "source": [
    "sentences = sent_tokenize(sample_script)\n",
    "sentences[60:90]"
   ]
  },
  {
   "cell_type": "code",
   "execution_count": 76,
   "metadata": {},
   "outputs": [
    {
     "data": {
      "text/plain": [
       "'To think I’d already have my handicap spotted..You are such a disgraceful guy as always…\\n Dang it..It kind of ticks me off when the Pervy Sage is mocked..Summoning…Jutsu!.The Nine-Tailed Fox kid from the Chunin Exam..I wonder if I should’ve killed him then, after all..For the sake of the Akatsuki organization,\\n I acknowledged his achievement… and let him slide by..But the only ones who can break a Five-Pronged Spell\\n are the Sannin members and the Third Hokage..Which means Jiraiya may have already taught it to Naruto..Perhaps..If he’s able to control the Nine-Tailed Fox’s power…\\n Oh…\\n Th-This is…\\n It doesn’t quite look to be so..He isn’t endowed with Shinobi ability to begin with, so…\\n Why?.He’s still got a long way to go, sure enough..Why?!.Hello..Hey, Gamatatsu..Why did you come out?.Oh, Brother Gamakichi..It’s the first time I’ve been Summoned..I-I wonder if I can do my best?.Idiot..Get some snacks or something and hide..What?.I can get snacks?.Goody-goody..Here I go..I’ll take Jiraiya..I leave the rest to you..It’s unfortunate…\\n Here I also wanted to fight Lord Jiraiya, one of the Sannin..Naruto!'"
      ]
     },
     "execution_count": 76,
     "metadata": {},
     "output_type": "execute_result"
    }
   ],
   "source": [
    "sentence = \".\".join(sentences[60:90])\n",
    "sentence"
   ]
  },
  {
   "cell_type": "markdown",
   "metadata": {},
   "source": [
    "### Running the model"
   ]
  },
  {
   "cell_type": "code",
   "execution_count": 77,
   "metadata": {},
   "outputs": [
    {
     "data": {
      "text/plain": [
       "(the Pervy Sage,\n",
       " the Chunin Exam,\n",
       " Akatsuki,\n",
       " Five,\n",
       " Sannin,\n",
       " Third,\n",
       " Jiraiya,\n",
       " Naruto,\n",
       " Shinobi,\n",
       " Gamatatsu,\n",
       " Gamakichi,\n",
       " first,\n",
       " Jiraiya,\n",
       " Jiraiya,\n",
       " Sannin,\n",
       " Naruto)"
      ]
     },
     "execution_count": 77,
     "metadata": {},
     "output_type": "execute_result"
    }
   ],
   "source": [
    "doc = nlp_model(sentence)\n",
    "doc.ents"
   ]
  },
  {
   "cell_type": "code",
   "execution_count": 78,
   "metadata": {},
   "outputs": [
    {
     "name": "stdout",
     "output_type": "stream",
     "text": [
      "the Pervy Sage PERSON\n",
      "the Chunin Exam EVENT\n",
      "Akatsuki ORG\n",
      "Five CARDINAL\n",
      "Sannin NORP\n",
      "Third ORDINAL\n",
      "Jiraiya PERSON\n",
      "Naruto PERSON\n",
      "Shinobi NORP\n",
      "Gamatatsu PERSON\n",
      "Gamakichi PERSON\n",
      "first ORDINAL\n",
      "Jiraiya PERSON\n",
      "Jiraiya PERSON\n",
      "Sannin NORP\n",
      "Naruto PERSON\n"
     ]
    }
   ],
   "source": [
    "for entity in doc.ents:\n",
    "    print(entity.text, entity.label_)"
   ]
  },
  {
   "cell_type": "code",
   "execution_count": 79,
   "metadata": {},
   "outputs": [],
   "source": [
    "def get_ners_inference(script):\n",
    "    script_sentences = sent_tokenize(script)\n",
    "    \n",
    "    ner_output = []\n",
    "    for sentence in script_sentences:\n",
    "        doc = nlp_model(sentence)\n",
    "        ners = set()\n",
    "        for entity in doc.ents:\n",
    "            if entity.label_ == 'PERSON':\n",
    "                full_name = entity.text\n",
    "                first_name = full_name.split(\" \")[0]\n",
    "                first_name = first_name.strip()\n",
    "                ners.add(first_name)\n",
    "        ner_output.append(ners)\n",
    "        \n",
    "    return ner_output"
   ]
  },
  {
   "cell_type": "code",
   "execution_count": 80,
   "metadata": {},
   "outputs": [
    {
     "data": {
      "text/html": [
       "<div>\n",
       "<style scoped>\n",
       "    .dataframe tbody tr th:only-of-type {\n",
       "        vertical-align: middle;\n",
       "    }\n",
       "\n",
       "    .dataframe tbody tr th {\n",
       "        vertical-align: top;\n",
       "    }\n",
       "\n",
       "    .dataframe thead th {\n",
       "        text-align: right;\n",
       "    }\n",
       "</style>\n",
       "<table border=\"1\" class=\"dataframe\">\n",
       "  <thead>\n",
       "    <tr style=\"text-align: right;\">\n",
       "      <th></th>\n",
       "      <th>episode</th>\n",
       "      <th>script</th>\n",
       "    </tr>\n",
       "  </thead>\n",
       "  <tbody>\n",
       "    <tr>\n",
       "      <th>0</th>\n",
       "      <td>94</td>\n",
       "      <td>We are Fighting Dreamers aiming high\\n Fightin...</td>\n",
       "    </tr>\n",
       "    <tr>\n",
       "      <th>1</th>\n",
       "      <td>80</td>\n",
       "      <td>We are Fighting Dreamers aiming high\\n Fightin...</td>\n",
       "    </tr>\n",
       "    <tr>\n",
       "      <th>2</th>\n",
       "      <td>32</td>\n",
       "      <td>Press down hard on the gas\\n That’s right, the...</td>\n",
       "    </tr>\n",
       "    <tr>\n",
       "      <th>3</th>\n",
       "      <td>185</td>\n",
       "      <td>Rock away your existence,\\n Shouting that you ...</td>\n",
       "    </tr>\n",
       "    <tr>\n",
       "      <th>4</th>\n",
       "      <td>191</td>\n",
       "      <td>Rock away your existence,\\n Shouting that you ...</td>\n",
       "    </tr>\n",
       "    <tr>\n",
       "      <th>5</th>\n",
       "      <td>190</td>\n",
       "      <td>Rock away your existence,\\n Shouting that you ...</td>\n",
       "    </tr>\n",
       "    <tr>\n",
       "      <th>6</th>\n",
       "      <td>184</td>\n",
       "      <td>Rock away your existence,\\n Shouting that you ...</td>\n",
       "    </tr>\n",
       "    <tr>\n",
       "      <th>7</th>\n",
       "      <td>27</td>\n",
       "      <td>Press down hard on the gas\\n That’s right, the...</td>\n",
       "    </tr>\n",
       "    <tr>\n",
       "      <th>8</th>\n",
       "      <td>33</td>\n",
       "      <td>Press down hard on the gas\\n That’s right, the...</td>\n",
       "    </tr>\n",
       "    <tr>\n",
       "      <th>9</th>\n",
       "      <td>81</td>\n",
       "      <td>We are Fighting Dreamers aiming high\\n Fightin...</td>\n",
       "    </tr>\n",
       "  </tbody>\n",
       "</table>\n",
       "</div>"
      ],
      "text/plain": [
       "   episode                                             script\n",
       "0       94  We are Fighting Dreamers aiming high\\n Fightin...\n",
       "1       80  We are Fighting Dreamers aiming high\\n Fightin...\n",
       "2       32  Press down hard on the gas\\n That’s right, the...\n",
       "3      185  Rock away your existence,\\n Shouting that you ...\n",
       "4      191  Rock away your existence,\\n Shouting that you ...\n",
       "5      190  Rock away your existence,\\n Shouting that you ...\n",
       "6      184  Rock away your existence,\\n Shouting that you ...\n",
       "7       27  Press down hard on the gas\\n That’s right, the...\n",
       "8       33  Press down hard on the gas\\n That’s right, the...\n",
       "9       81  We are Fighting Dreamers aiming high\\n Fightin..."
      ]
     },
     "execution_count": 80,
     "metadata": {},
     "output_type": "execute_result"
    }
   ],
   "source": [
    "df =df.head(10)\n",
    "df"
   ]
  },
  {
   "cell_type": "code",
   "execution_count": 81,
   "metadata": {},
   "outputs": [],
   "source": [
    "df['ners'] = df['script'].apply(get_ners_inference)"
   ]
  },
  {
   "cell_type": "code",
   "execution_count": 82,
   "metadata": {},
   "outputs": [
    {
     "data": {
      "text/html": [
       "<div>\n",
       "<style scoped>\n",
       "    .dataframe tbody tr th:only-of-type {\n",
       "        vertical-align: middle;\n",
       "    }\n",
       "\n",
       "    .dataframe tbody tr th {\n",
       "        vertical-align: top;\n",
       "    }\n",
       "\n",
       "    .dataframe thead th {\n",
       "        text-align: right;\n",
       "    }\n",
       "</style>\n",
       "<table border=\"1\" class=\"dataframe\">\n",
       "  <thead>\n",
       "    <tr style=\"text-align: right;\">\n",
       "      <th></th>\n",
       "      <th>episode</th>\n",
       "      <th>script</th>\n",
       "      <th>ners</th>\n",
       "    </tr>\n",
       "  </thead>\n",
       "  <tbody>\n",
       "    <tr>\n",
       "      <th>0</th>\n",
       "      <td>94</td>\n",
       "      <td>We are Fighting Dreamers aiming high\\n Fightin...</td>\n",
       "      <td>[{Oli}, {}, {}, {}, {}, {Oli}, {}, {Burn}, {},...</td>\n",
       "    </tr>\n",
       "    <tr>\n",
       "      <th>1</th>\n",
       "      <td>80</td>\n",
       "      <td>We are Fighting Dreamers aiming high\\n Fightin...</td>\n",
       "      <td>[{Oli}, {}, {}, {}, {}, {Oli}, {}, {Burn}, {},...</td>\n",
       "    </tr>\n",
       "    <tr>\n",
       "      <th>2</th>\n",
       "      <td>32</td>\n",
       "      <td>Press down hard on the gas\\n That’s right, the...</td>\n",
       "      <td>[{}, {}, {}, {}, {}, {}, {Lee}, {}, {}, {}, {}...</td>\n",
       "    </tr>\n",
       "    <tr>\n",
       "      <th>3</th>\n",
       "      <td>185</td>\n",
       "      <td>Rock away your existence,\\n Shouting that you ...</td>\n",
       "      <td>[{}, {}, {}, {}, {}, {}, {}, {}, {}, {}, {}, {...</td>\n",
       "    </tr>\n",
       "    <tr>\n",
       "      <th>4</th>\n",
       "      <td>191</td>\n",
       "      <td>Rock away your existence,\\n Shouting that you ...</td>\n",
       "      <td>[{}, {}, {}, {}, {}, {}, {}, {}, {}, {Hinata},...</td>\n",
       "    </tr>\n",
       "    <tr>\n",
       "      <th>5</th>\n",
       "      <td>190</td>\n",
       "      <td>Rock away your existence,\\n Shouting that you ...</td>\n",
       "      <td>[{}, {}, {}, {}, {}, {}, {}, {Naruto}, {}, {},...</td>\n",
       "    </tr>\n",
       "    <tr>\n",
       "      <th>6</th>\n",
       "      <td>184</td>\n",
       "      <td>Rock away your existence,\\n Shouting that you ...</td>\n",
       "      <td>[{}, {}, {}, {}, {}, {Akamaru}, {}, {}, {Kiba}...</td>\n",
       "    </tr>\n",
       "    <tr>\n",
       "      <th>7</th>\n",
       "      <td>27</td>\n",
       "      <td>Press down hard on the gas\\n That’s right, the...</td>\n",
       "      <td>[{}, {}, {}, {}, {}, {}, {}, {}, {Naruto}, {},...</td>\n",
       "    </tr>\n",
       "    <tr>\n",
       "      <th>8</th>\n",
       "      <td>33</td>\n",
       "      <td>Press down hard on the gas\\n That’s right, the...</td>\n",
       "      <td>[{}, {}, {}, {}, {}, {}, {}, {}, {}, {Sasuke},...</td>\n",
       "    </tr>\n",
       "    <tr>\n",
       "      <th>9</th>\n",
       "      <td>81</td>\n",
       "      <td>We are Fighting Dreamers aiming high\\n Fightin...</td>\n",
       "      <td>[{Oli}, {}, {}, {}, {}, {Oli}, {}, {Burn}, {},...</td>\n",
       "    </tr>\n",
       "  </tbody>\n",
       "</table>\n",
       "</div>"
      ],
      "text/plain": [
       "   episode                                             script  \\\n",
       "0       94  We are Fighting Dreamers aiming high\\n Fightin...   \n",
       "1       80  We are Fighting Dreamers aiming high\\n Fightin...   \n",
       "2       32  Press down hard on the gas\\n That’s right, the...   \n",
       "3      185  Rock away your existence,\\n Shouting that you ...   \n",
       "4      191  Rock away your existence,\\n Shouting that you ...   \n",
       "5      190  Rock away your existence,\\n Shouting that you ...   \n",
       "6      184  Rock away your existence,\\n Shouting that you ...   \n",
       "7       27  Press down hard on the gas\\n That’s right, the...   \n",
       "8       33  Press down hard on the gas\\n That’s right, the...   \n",
       "9       81  We are Fighting Dreamers aiming high\\n Fightin...   \n",
       "\n",
       "                                                ners  \n",
       "0  [{Oli}, {}, {}, {}, {}, {Oli}, {}, {Burn}, {},...  \n",
       "1  [{Oli}, {}, {}, {}, {}, {Oli}, {}, {Burn}, {},...  \n",
       "2  [{}, {}, {}, {}, {}, {}, {Lee}, {}, {}, {}, {}...  \n",
       "3  [{}, {}, {}, {}, {}, {}, {}, {}, {}, {}, {}, {...  \n",
       "4  [{}, {}, {}, {}, {}, {}, {}, {}, {}, {Hinata},...  \n",
       "5  [{}, {}, {}, {}, {}, {}, {}, {Naruto}, {}, {},...  \n",
       "6  [{}, {}, {}, {}, {}, {Akamaru}, {}, {}, {Kiba}...  \n",
       "7  [{}, {}, {}, {}, {}, {}, {}, {}, {Naruto}, {},...  \n",
       "8  [{}, {}, {}, {}, {}, {}, {}, {}, {}, {Sasuke},...  \n",
       "9  [{Oli}, {}, {}, {}, {}, {Oli}, {}, {Burn}, {},...  "
      ]
     },
     "execution_count": 82,
     "metadata": {},
     "output_type": "execute_result"
    }
   ],
   "source": [
    "df"
   ]
  },
  {
   "cell_type": "markdown",
   "metadata": {},
   "source": [
    "### Character network"
   ]
  },
  {
   "cell_type": "code",
   "execution_count": 3,
   "metadata": {},
   "outputs": [],
   "source": [
    "import pandas as pd\n",
    "import matplotlib.pyplot as plt\n",
    "import networkx as nx\n",
    "from pyvis.network import Network\n"
   ]
  },
  {
   "cell_type": "code",
   "execution_count": 84,
   "metadata": {},
   "outputs": [],
   "source": [
    "def geenerate_character_network(df):\n",
    "    \n",
    "    windows=10\n",
    "    entity_relationships = []\n",
    "    for row in df['ners']:\n",
    "        previous_entities_in_window = []\n",
    "        for sentences in row:\n",
    "            previous_entities_in_window.append(list(sentences))\n",
    "            previous_entities_in_window = previous_entities_in_window[-windows:]\n",
    "            \n",
    "            #Flatten 2D list into a 1D list\n",
    "            previous_entities_flattened= sum(previous_entities_in_window, [])\n",
    "            \n",
    "            for entity in sentences:\n",
    "                for entity_in_window in previous_entities_flattened:\n",
    "                    if entity != entity_in_window:\n",
    "                        entity_relationships.append(sorted([entity, entity_in_window]))\n",
    "                        \n",
    "    relationship_df = pd.DataFrame({'value':entity_relationships})\n",
    "    relationship_df['source'] = relationship_df['value'].apply(lambda x: x[0])\n",
    "    relationship_df['target'] = relationship_df['value'].apply(lambda x: x[1])\n",
    "    relationship_df = relationship_df.groupby(['source', 'target']).count().reset_index()\n",
    "    relationship_df = relationship_df.sort_values(by='value', ascending=False)\n",
    "    \n",
    "    return relationship_df"
   ]
  },
  {
   "cell_type": "code",
   "execution_count": 85,
   "metadata": {},
   "outputs": [
    {
     "data": {
      "text/html": [
       "<div>\n",
       "<style scoped>\n",
       "    .dataframe tbody tr th:only-of-type {\n",
       "        vertical-align: middle;\n",
       "    }\n",
       "\n",
       "    .dataframe tbody tr th {\n",
       "        vertical-align: top;\n",
       "    }\n",
       "\n",
       "    .dataframe thead th {\n",
       "        text-align: right;\n",
       "    }\n",
       "</style>\n",
       "<table border=\"1\" class=\"dataframe\">\n",
       "  <thead>\n",
       "    <tr style=\"text-align: right;\">\n",
       "      <th></th>\n",
       "      <th>source</th>\n",
       "      <th>target</th>\n",
       "      <th>value</th>\n",
       "    </tr>\n",
       "  </thead>\n",
       "  <tbody>\n",
       "    <tr>\n",
       "      <th>2</th>\n",
       "      <td>Akamaru</td>\n",
       "      <td>Kiba</td>\n",
       "      <td>121</td>\n",
       "    </tr>\n",
       "    <tr>\n",
       "      <th>97</th>\n",
       "      <td>Hinata</td>\n",
       "      <td>Naruto</td>\n",
       "      <td>76</td>\n",
       "    </tr>\n",
       "    <tr>\n",
       "      <th>147</th>\n",
       "      <td>Ino</td>\n",
       "      <td>Sakura</td>\n",
       "      <td>40</td>\n",
       "    </tr>\n",
       "    <tr>\n",
       "      <th>297</th>\n",
       "      <td>Sakura</td>\n",
       "      <td>Sasuke</td>\n",
       "      <td>34</td>\n",
       "    </tr>\n",
       "    <tr>\n",
       "      <th>3</th>\n",
       "      <td>Akamaru</td>\n",
       "      <td>Naruto</td>\n",
       "      <td>32</td>\n",
       "    </tr>\n",
       "    <tr>\n",
       "      <th>...</th>\n",
       "      <td>...</td>\n",
       "      <td>...</td>\n",
       "      <td>...</td>\n",
       "    </tr>\n",
       "    <tr>\n",
       "      <th>99</th>\n",
       "      <td>Hinata</td>\n",
       "      <td>Sakura</td>\n",
       "      <td>1</td>\n",
       "    </tr>\n",
       "    <tr>\n",
       "      <th>207</th>\n",
       "      <td>Kakashi</td>\n",
       "      <td>Shadow</td>\n",
       "      <td>1</td>\n",
       "    </tr>\n",
       "    <tr>\n",
       "      <th>208</th>\n",
       "      <td>Kakashi</td>\n",
       "      <td>Shinobi</td>\n",
       "      <td>1</td>\n",
       "    </tr>\n",
       "    <tr>\n",
       "      <th>209</th>\n",
       "      <td>Kakashi</td>\n",
       "      <td>Tsunade</td>\n",
       "      <td>1</td>\n",
       "    </tr>\n",
       "    <tr>\n",
       "      <th>326</th>\n",
       "      <td>Uchiha</td>\n",
       "      <td>a</td>\n",
       "      <td>1</td>\n",
       "    </tr>\n",
       "  </tbody>\n",
       "</table>\n",
       "<p>327 rows × 3 columns</p>\n",
       "</div>"
      ],
      "text/plain": [
       "      source   target  value\n",
       "2    Akamaru     Kiba    121\n",
       "97    Hinata   Naruto     76\n",
       "147      Ino   Sakura     40\n",
       "297   Sakura   Sasuke     34\n",
       "3    Akamaru   Naruto     32\n",
       "..       ...      ...    ...\n",
       "99    Hinata   Sakura      1\n",
       "207  Kakashi   Shadow      1\n",
       "208  Kakashi  Shinobi      1\n",
       "209  Kakashi  Tsunade      1\n",
       "326   Uchiha        a      1\n",
       "\n",
       "[327 rows x 3 columns]"
      ]
     },
     "execution_count": 85,
     "metadata": {},
     "output_type": "execute_result"
    }
   ],
   "source": [
    "relationship_df = geenerate_character_network(df)\n",
    "relationship_df"
   ]
  },
  {
   "cell_type": "code",
   "execution_count": 86,
   "metadata": {},
   "outputs": [
    {
     "data": {
      "text/html": [
       "<div>\n",
       "<style scoped>\n",
       "    .dataframe tbody tr th:only-of-type {\n",
       "        vertical-align: middle;\n",
       "    }\n",
       "\n",
       "    .dataframe tbody tr th {\n",
       "        vertical-align: top;\n",
       "    }\n",
       "\n",
       "    .dataframe thead th {\n",
       "        text-align: right;\n",
       "    }\n",
       "</style>\n",
       "<table border=\"1\" class=\"dataframe\">\n",
       "  <thead>\n",
       "    <tr style=\"text-align: right;\">\n",
       "      <th></th>\n",
       "      <th>source</th>\n",
       "      <th>target</th>\n",
       "      <th>value</th>\n",
       "    </tr>\n",
       "  </thead>\n",
       "  <tbody>\n",
       "    <tr>\n",
       "      <th>2</th>\n",
       "      <td>Akamaru</td>\n",
       "      <td>Kiba</td>\n",
       "      <td>121</td>\n",
       "    </tr>\n",
       "    <tr>\n",
       "      <th>97</th>\n",
       "      <td>Hinata</td>\n",
       "      <td>Naruto</td>\n",
       "      <td>76</td>\n",
       "    </tr>\n",
       "    <tr>\n",
       "      <th>147</th>\n",
       "      <td>Ino</td>\n",
       "      <td>Sakura</td>\n",
       "      <td>40</td>\n",
       "    </tr>\n",
       "    <tr>\n",
       "      <th>297</th>\n",
       "      <td>Sakura</td>\n",
       "      <td>Sasuke</td>\n",
       "      <td>34</td>\n",
       "    </tr>\n",
       "    <tr>\n",
       "      <th>3</th>\n",
       "      <td>Akamaru</td>\n",
       "      <td>Naruto</td>\n",
       "      <td>32</td>\n",
       "    </tr>\n",
       "    <tr>\n",
       "      <th>...</th>\n",
       "      <td>...</td>\n",
       "      <td>...</td>\n",
       "      <td>...</td>\n",
       "    </tr>\n",
       "    <tr>\n",
       "      <th>110</th>\n",
       "      <td>Hokage</td>\n",
       "      <td>Kakashi</td>\n",
       "      <td>1</td>\n",
       "    </tr>\n",
       "    <tr>\n",
       "      <th>164</th>\n",
       "      <td>Janin</td>\n",
       "      <td>The</td>\n",
       "      <td>1</td>\n",
       "    </tr>\n",
       "    <tr>\n",
       "      <th>109</th>\n",
       "      <td>Hokage</td>\n",
       "      <td>Kages</td>\n",
       "      <td>1</td>\n",
       "    </tr>\n",
       "    <tr>\n",
       "      <th>108</th>\n",
       "      <td>Hokage</td>\n",
       "      <td>Kabuto</td>\n",
       "      <td>1</td>\n",
       "    </tr>\n",
       "    <tr>\n",
       "      <th>185</th>\n",
       "      <td>Kabuto</td>\n",
       "      <td>Kages</td>\n",
       "      <td>1</td>\n",
       "    </tr>\n",
       "  </tbody>\n",
       "</table>\n",
       "<p>200 rows × 3 columns</p>\n",
       "</div>"
      ],
      "text/plain": [
       "      source   target  value\n",
       "2    Akamaru     Kiba    121\n",
       "97    Hinata   Naruto     76\n",
       "147      Ino   Sakura     40\n",
       "297   Sakura   Sasuke     34\n",
       "3    Akamaru   Naruto     32\n",
       "..       ...      ...    ...\n",
       "110   Hokage  Kakashi      1\n",
       "164    Janin      The      1\n",
       "109   Hokage    Kages      1\n",
       "108   Hokage   Kabuto      1\n",
       "185   Kabuto    Kages      1\n",
       "\n",
       "[200 rows x 3 columns]"
      ]
     },
     "execution_count": 86,
     "metadata": {},
     "output_type": "execute_result"
    }
   ],
   "source": [
    "relationship_df = relationship_df.sort_values(by='value', ascending=False) # just making shure 😂\n",
    "relationship_df = relationship_df.head(200)\n",
    "relationship_df"
   ]
  },
  {
   "cell_type": "code",
   "execution_count": 87,
   "metadata": {},
   "outputs": [
    {
     "name": "stdout",
     "output_type": "stream",
     "text": [
      "naruto.html\n"
     ]
    },
    {
     "data": {
      "text/html": [
       "\n",
       "        <iframe\n",
       "            width=\"100%\"\n",
       "            height=\"800px\"\n",
       "            src=\"naruto.html\"\n",
       "            frameborder=\"0\"\n",
       "            allowfullscreen\n",
       "            \n",
       "        ></iframe>\n",
       "        "
      ],
      "text/plain": [
       "<IPython.lib.display.IFrame at 0x17f8f23f0>"
      ]
     },
     "execution_count": 87,
     "metadata": {},
     "output_type": "execute_result"
    }
   ],
   "source": [
    "G = nx.from_pandas_edgelist(relationship_df, source='source', target='target', edge_attr='value', create_using=nx.DiGraph())\n",
    "net = Network(notebook=True, height='800px', width='100%', bgcolor='#222222', font_color='white', cdn_resources='remote')\n",
    "node_degree = dict(G.degree())\n",
    "nx.set_node_attributes(G, node_degree, 'size')\n",
    "net.from_nx(G)\n",
    "net.show('naruto.html')"
   ]
  }
 ],
 "metadata": {
  "kernelspec": {
   "display_name": "Python 3",
   "language": "python",
   "name": "python3"
  },
  "language_info": {
   "codemirror_mode": {
    "name": "ipython",
    "version": 3
   },
   "file_extension": ".py",
   "mimetype": "text/x-python",
   "name": "python",
   "nbconvert_exporter": "python",
   "pygments_lexer": "ipython3",
   "version": "3.12.6"
  }
 },
 "nbformat": 4,
 "nbformat_minor": 2
}
