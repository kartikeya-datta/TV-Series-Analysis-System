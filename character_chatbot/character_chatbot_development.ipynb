{
 "cells": [
  {
   "cell_type": "code",
   "execution_count": 30,
   "id": "a05f5def",
   "metadata": {},
   "outputs": [],
   "source": [
    "import pandas as pd\n",
    "import re\n",
    "from datasets import Dataset"
   ]
  },
  {
   "cell_type": "markdown",
   "id": "5766f80b",
   "metadata": {},
   "source": [
    "Load Dataset"
   ]
  },
  {
   "cell_type": "code",
   "execution_count": 10,
   "id": "a01175df",
   "metadata": {},
   "outputs": [],
   "source": [
    "data_path = '../data/naruto.csv'\n",
    "naruto_transcript_df = pd.read_csv(data_path)"
   ]
  },
  {
   "cell_type": "code",
   "execution_count": 11,
   "id": "5b43a6af",
   "metadata": {},
   "outputs": [
    {
     "data": {
      "text/html": [
       "<div>\n",
       "<style scoped>\n",
       "    .dataframe tbody tr th:only-of-type {\n",
       "        vertical-align: middle;\n",
       "    }\n",
       "\n",
       "    .dataframe tbody tr th {\n",
       "        vertical-align: top;\n",
       "    }\n",
       "\n",
       "    .dataframe thead th {\n",
       "        text-align: right;\n",
       "    }\n",
       "</style>\n",
       "<table border=\"1\" class=\"dataframe\">\n",
       "  <thead>\n",
       "    <tr style=\"text-align: right;\">\n",
       "      <th></th>\n",
       "      <th>name</th>\n",
       "      <th>line</th>\n",
       "    </tr>\n",
       "  </thead>\n",
       "  <tbody>\n",
       "    <tr>\n",
       "      <th>0</th>\n",
       "      <td>Naruto</td>\n",
       "      <td>(Laughing) Give it up. (Shows the stone faces...</td>\n",
       "    </tr>\n",
       "    <tr>\n",
       "      <th>1</th>\n",
       "      <td>Hiruzen</td>\n",
       "      <td>(Turns away from his writing) I hope you’re n...</td>\n",
       "    </tr>\n",
       "    <tr>\n",
       "      <th>2</th>\n",
       "      <td>Ninja</td>\n",
       "      <td>Naseer Sabah</td>\n",
       "    </tr>\n",
       "    <tr>\n",
       "      <th>3</th>\n",
       "      <td>Ninja</td>\n",
       "      <td>is the best person on earth</td>\n",
       "    </tr>\n",
       "    <tr>\n",
       "      <th>4</th>\n",
       "      <td>Naruto</td>\n",
       "      <td>muah</td>\n",
       "    </tr>\n",
       "  </tbody>\n",
       "</table>\n",
       "</div>"
      ],
      "text/plain": [
       "      name                                               line\n",
       "0   Naruto   (Laughing) Give it up. (Shows the stone faces...\n",
       "1  Hiruzen   (Turns away from his writing) I hope you’re n...\n",
       "2    Ninja                                       Naseer Sabah\n",
       "3    Ninja                        is the best person on earth\n",
       "4   Naruto                                               muah"
      ]
     },
     "execution_count": 11,
     "metadata": {},
     "output_type": "execute_result"
    }
   ],
   "source": [
    "naruto_transcript_df.head()"
   ]
  },
  {
   "cell_type": "markdown",
   "id": "bd29292a",
   "metadata": {},
   "source": [
    "Removing actions from the trasnscript"
   ]
  },
  {
   "cell_type": "code",
   "execution_count": 12,
   "id": "408a0650",
   "metadata": {},
   "outputs": [],
   "source": [
    "def remove_paranthesis(text):\n",
    "    result = re.sub(r'\\(.*?\\)', '', text)\n",
    "    return result"
   ]
  },
  {
   "cell_type": "code",
   "execution_count": 13,
   "id": "318cbcb6",
   "metadata": {},
   "outputs": [],
   "source": [
    "naruto_transcript_df['line'] = naruto_transcript_df['line'].apply(remove_paranthesis)"
   ]
  },
  {
   "cell_type": "code",
   "execution_count": 14,
   "id": "be961862",
   "metadata": {},
   "outputs": [
    {
     "data": {
      "text/html": [
       "<div>\n",
       "<style scoped>\n",
       "    .dataframe tbody tr th:only-of-type {\n",
       "        vertical-align: middle;\n",
       "    }\n",
       "\n",
       "    .dataframe tbody tr th {\n",
       "        vertical-align: top;\n",
       "    }\n",
       "\n",
       "    .dataframe thead th {\n",
       "        text-align: right;\n",
       "    }\n",
       "</style>\n",
       "<table border=\"1\" class=\"dataframe\">\n",
       "  <thead>\n",
       "    <tr style=\"text-align: right;\">\n",
       "      <th></th>\n",
       "      <th>name</th>\n",
       "      <th>line</th>\n",
       "    </tr>\n",
       "  </thead>\n",
       "  <tbody>\n",
       "    <tr>\n",
       "      <th>0</th>\n",
       "      <td>Naruto</td>\n",
       "      <td>Give it up.  You’re just bent, because you d...</td>\n",
       "    </tr>\n",
       "    <tr>\n",
       "      <th>1</th>\n",
       "      <td>Hiruzen</td>\n",
       "      <td>I hope you’re not bothering me with some tri...</td>\n",
       "    </tr>\n",
       "    <tr>\n",
       "      <th>2</th>\n",
       "      <td>Ninja</td>\n",
       "      <td>Naseer Sabah</td>\n",
       "    </tr>\n",
       "    <tr>\n",
       "      <th>3</th>\n",
       "      <td>Ninja</td>\n",
       "      <td>is the best person on earth</td>\n",
       "    </tr>\n",
       "    <tr>\n",
       "      <th>4</th>\n",
       "      <td>Naruto</td>\n",
       "      <td>muah</td>\n",
       "    </tr>\n",
       "  </tbody>\n",
       "</table>\n",
       "</div>"
      ],
      "text/plain": [
       "      name                                               line\n",
       "0   Naruto    Give it up.  You’re just bent, because you d...\n",
       "1  Hiruzen    I hope you’re not bothering me with some tri...\n",
       "2    Ninja                                       Naseer Sabah\n",
       "3    Ninja                        is the best person on earth\n",
       "4   Naruto                                               muah"
      ]
     },
     "execution_count": 14,
     "metadata": {},
     "output_type": "execute_result"
    }
   ],
   "source": [
    "naruto_transcript_df.head()"
   ]
  },
  {
   "cell_type": "code",
   "execution_count": null,
   "id": "f4f1ff84",
   "metadata": {},
   "outputs": [],
   "source": [
    "naruto_transcript_df['number_of_words'] = naruto_transcript_df['line'].apply(lambda x: len(x.split()))"
   ]
  },
  {
   "cell_type": "code",
   "execution_count": 18,
   "id": "254ee45f",
   "metadata": {},
   "outputs": [
    {
     "data": {
      "text/html": [
       "<div>\n",
       "<style scoped>\n",
       "    .dataframe tbody tr th:only-of-type {\n",
       "        vertical-align: middle;\n",
       "    }\n",
       "\n",
       "    .dataframe tbody tr th {\n",
       "        vertical-align: top;\n",
       "    }\n",
       "\n",
       "    .dataframe thead th {\n",
       "        text-align: right;\n",
       "    }\n",
       "</style>\n",
       "<table border=\"1\" class=\"dataframe\">\n",
       "  <thead>\n",
       "    <tr style=\"text-align: right;\">\n",
       "      <th></th>\n",
       "      <th>name</th>\n",
       "      <th>line</th>\n",
       "      <th>number_of_words</th>\n",
       "    </tr>\n",
       "  </thead>\n",
       "  <tbody>\n",
       "    <tr>\n",
       "      <th>0</th>\n",
       "      <td>Naruto</td>\n",
       "      <td>Give it up.  You’re just bent, because you d...</td>\n",
       "      <td>25</td>\n",
       "    </tr>\n",
       "    <tr>\n",
       "      <th>1</th>\n",
       "      <td>Hiruzen</td>\n",
       "      <td>I hope you’re not bothering me with some tri...</td>\n",
       "      <td>16</td>\n",
       "    </tr>\n",
       "    <tr>\n",
       "      <th>2</th>\n",
       "      <td>Ninja</td>\n",
       "      <td>Naseer Sabah</td>\n",
       "      <td>2</td>\n",
       "    </tr>\n",
       "    <tr>\n",
       "      <th>3</th>\n",
       "      <td>Ninja</td>\n",
       "      <td>is the best person on earth</td>\n",
       "      <td>6</td>\n",
       "    </tr>\n",
       "    <tr>\n",
       "      <th>4</th>\n",
       "      <td>Naruto</td>\n",
       "      <td>muah</td>\n",
       "      <td>1</td>\n",
       "    </tr>\n",
       "  </tbody>\n",
       "</table>\n",
       "</div>"
      ],
      "text/plain": [
       "      name                                               line  number_of_words\n",
       "0   Naruto    Give it up.  You’re just bent, because you d...               25\n",
       "1  Hiruzen    I hope you’re not bothering me with some tri...               16\n",
       "2    Ninja                                       Naseer Sabah                2\n",
       "3    Ninja                        is the best person on earth                6\n",
       "4   Naruto                                               muah                1"
      ]
     },
     "execution_count": 18,
     "metadata": {},
     "output_type": "execute_result"
    }
   ],
   "source": [
    "naruto_transcript_df.head()"
   ]
  },
  {
   "cell_type": "code",
   "execution_count": 21,
   "id": "ccbc24b2",
   "metadata": {},
   "outputs": [],
   "source": [
    "naruto_transcript_df['naruto_response_flag'] = 0\n",
    "naruto_transcript_df.loc[(naruto_transcript_df['name']==\"Naruto\")&(naruto_transcript_df['number_of_words']>5), 'naruto_response_flag'] = 1"
   ]
  },
  {
   "cell_type": "code",
   "execution_count": 22,
   "id": "031e7f05",
   "metadata": {},
   "outputs": [
    {
     "data": {
      "text/html": [
       "<div>\n",
       "<style scoped>\n",
       "    .dataframe tbody tr th:only-of-type {\n",
       "        vertical-align: middle;\n",
       "    }\n",
       "\n",
       "    .dataframe tbody tr th {\n",
       "        vertical-align: top;\n",
       "    }\n",
       "\n",
       "    .dataframe thead th {\n",
       "        text-align: right;\n",
       "    }\n",
       "</style>\n",
       "<table border=\"1\" class=\"dataframe\">\n",
       "  <thead>\n",
       "    <tr style=\"text-align: right;\">\n",
       "      <th></th>\n",
       "      <th>name</th>\n",
       "      <th>line</th>\n",
       "      <th>number_of_words</th>\n",
       "      <th>naruto_response_flag</th>\n",
       "    </tr>\n",
       "  </thead>\n",
       "  <tbody>\n",
       "    <tr>\n",
       "      <th>0</th>\n",
       "      <td>Naruto</td>\n",
       "      <td>Give it up.  You’re just bent, because you d...</td>\n",
       "      <td>25</td>\n",
       "      <td>1</td>\n",
       "    </tr>\n",
       "    <tr>\n",
       "      <th>1</th>\n",
       "      <td>Hiruzen</td>\n",
       "      <td>I hope you’re not bothering me with some tri...</td>\n",
       "      <td>16</td>\n",
       "      <td>0</td>\n",
       "    </tr>\n",
       "    <tr>\n",
       "      <th>2</th>\n",
       "      <td>Ninja</td>\n",
       "      <td>Naseer Sabah</td>\n",
       "      <td>2</td>\n",
       "      <td>0</td>\n",
       "    </tr>\n",
       "    <tr>\n",
       "      <th>3</th>\n",
       "      <td>Ninja</td>\n",
       "      <td>is the best person on earth</td>\n",
       "      <td>6</td>\n",
       "      <td>0</td>\n",
       "    </tr>\n",
       "    <tr>\n",
       "      <th>4</th>\n",
       "      <td>Naruto</td>\n",
       "      <td>muah</td>\n",
       "      <td>1</td>\n",
       "      <td>0</td>\n",
       "    </tr>\n",
       "    <tr>\n",
       "      <th>...</th>\n",
       "      <td>...</td>\n",
       "      <td>...</td>\n",
       "      <td>...</td>\n",
       "      <td>...</td>\n",
       "    </tr>\n",
       "    <tr>\n",
       "      <th>158</th>\n",
       "      <td>Iruka</td>\n",
       "      <td>Congratulations. You graduate. Naruto’s stand...</td>\n",
       "      <td>27</td>\n",
       "      <td>0</td>\n",
       "    </tr>\n",
       "    <tr>\n",
       "      <th>159</th>\n",
       "      <td>Iruka</td>\n",
       "      <td>Huh?</td>\n",
       "      <td>1</td>\n",
       "      <td>0</td>\n",
       "    </tr>\n",
       "    <tr>\n",
       "      <th>160</th>\n",
       "      <td>Naruto</td>\n",
       "      <td>Iruka Sensei!</td>\n",
       "      <td>2</td>\n",
       "      <td>0</td>\n",
       "    </tr>\n",
       "    <tr>\n",
       "      <th>161</th>\n",
       "      <td>Iruka</td>\n",
       "      <td>Ah! That hurts!</td>\n",
       "      <td>3</td>\n",
       "      <td>0</td>\n",
       "    </tr>\n",
       "    <tr>\n",
       "      <th>162</th>\n",
       "      <td>Iruka</td>\n",
       "      <td>Naruto. This is only the beginning. The road...</td>\n",
       "      <td>38</td>\n",
       "      <td>0</td>\n",
       "    </tr>\n",
       "  </tbody>\n",
       "</table>\n",
       "<p>163 rows × 4 columns</p>\n",
       "</div>"
      ],
      "text/plain": [
       "        name                                               line  \\\n",
       "0     Naruto    Give it up.  You’re just bent, because you d...   \n",
       "1    Hiruzen    I hope you’re not bothering me with some tri...   \n",
       "2      Ninja                                       Naseer Sabah   \n",
       "3      Ninja                        is the best person on earth   \n",
       "4     Naruto                                               muah   \n",
       "..       ...                                                ...   \n",
       "158    Iruka   Congratulations. You graduate. Naruto’s stand...   \n",
       "159    Iruka                                               Huh?   \n",
       "160   Naruto                                     Iruka Sensei!    \n",
       "161    Iruka                                    Ah! That hurts!   \n",
       "162    Iruka    Naruto. This is only the beginning. The road...   \n",
       "\n",
       "     number_of_words  naruto_response_flag  \n",
       "0                 25                     1  \n",
       "1                 16                     0  \n",
       "2                  2                     0  \n",
       "3                  6                     0  \n",
       "4                  1                     0  \n",
       "..               ...                   ...  \n",
       "158               27                     0  \n",
       "159                1                     0  \n",
       "160                2                     0  \n",
       "161                3                     0  \n",
       "162               38                     0  \n",
       "\n",
       "[163 rows x 4 columns]"
      ]
     },
     "execution_count": 22,
     "metadata": {},
     "output_type": "execute_result"
    }
   ],
   "source": [
    "naruto_transcript_df"
   ]
  },
  {
   "cell_type": "code",
   "execution_count": 23,
   "id": "febddc60",
   "metadata": {},
   "outputs": [],
   "source": [
    "indexes_to_take = list(naruto_transcript_df[(naruto_transcript_df['naruto_response_flag'] == 1)&(naruto_transcript_df.index>0)].index)"
   ]
  },
  {
   "cell_type": "code",
   "execution_count": 24,
   "id": "bdcf060b",
   "metadata": {},
   "outputs": [
    {
     "data": {
      "text/plain": [
       "[6, 28, 30]"
      ]
     },
     "execution_count": 24,
     "metadata": {},
     "output_type": "execute_result"
    }
   ],
   "source": [
    "indexes_to_take[:3]"
   ]
  },
  {
   "cell_type": "code",
   "execution_count": 25,
   "id": "2828d5bf",
   "metadata": {},
   "outputs": [],
   "source": [
    "system_promt = \"\"\" You are naruto from the anime \"Naruto\". Your Responses should reflect his personalit and speech patterns \\n\"\"\"\n",
    "\n",
    "prompys = []\n",
    "\n",
    "for ind in indexes_to_take:\n",
    "    naruto_response = naruto_transcript_df.loc[ind, 'line']\n",
    "    naruto_response = naruto_response.replace('\\n', '')\n",
    "    naruto_response = naruto_response.replace('Naruto:', '')\n",
    "    naruto_response = naruto_response.strip()\n",
    "    prompt = system_promt + f\"Naruto: {naruto_response}\"\n",
    "    prompys.append(prompt)"
   ]
  },
  {
   "cell_type": "code",
   "execution_count": 26,
   "id": "cc0a7d89",
   "metadata": {},
   "outputs": [
    {
     "data": {
      "text/plain": [
       "[' You are naruto from the anime \"Naruto\". Your Responses should reflect his personalit and speech patterns \\nNaruto: Where’d you come from, Iruka Sensei!? What are you doing here?',\n",
       " ' You are naruto from the anime \"Naruto\". Your Responses should reflect his personalit and speech patterns \\nNaruto: So what? It’s not like there’s anyone waiting at home for me.',\n",
       " ' You are naruto from the anime \"Naruto\". Your Responses should reflect his personalit and speech patterns \\nNaruto: What do you want now, Sensei?',\n",
       " ' You are naruto from the anime \"Naruto\". Your Responses should reflect his personalit and speech patterns \\nNaruto: Now that’s some serious motivation! I’ll have this clean in no time!',\n",
       " ' You are naruto from the anime \"Naruto\". Your Responses should reflect his personalit and speech patterns \\nNaruto: Course I do.  Everybody knows. They were the greatest Shinobi of their time, right? The best of the best. Undefeated Ninja champs.   And the Fourth Hokage’s the one who saved the village from the Nine-Tailed Fox. He was the most amazing.',\n",
       " ' You are naruto from the anime \"Naruto\". Your Responses should reflect his personalit and speech patterns \\nNaruto: Cause I’m going to be greater than any of them. Me. Naruto. The next Hokage!  A Ninja legend! Then everyone will have to stop disrespecting me, and look up to me. Believe it!  Uh, by the way, I kinda wanna ask a little favour, Sensei.',\n",
       " ' You are naruto from the anime \"Naruto\". Your Responses should reflect his personalit and speech patterns \\nNaruto: Uh-uh. I... want to try on your headband. Come on, Please!?',\n",
       " ' You are naruto from the anime \"Naruto\". Your Responses should reflect his personalit and speech patterns \\nNaruto: Ugh! That’s my worst technique! Great. I’m never gonna pass!',\n",
       " ' You are naruto from the anime \"Naruto\". Your Responses should reflect his personalit and speech patterns \\nNaruto: Alright. Get it together, Naruto. You can do this.  Believe it.  Clone Jutsu!',\n",
       " ' You are naruto from the anime \"Naruto\". Your Responses should reflect his personalit and speech patterns \\nNaruto: But... This time I really wanted to graduate.',\n",
       " ' You are naruto from the anime \"Naruto\". Your Responses should reflect his personalit and speech patterns \\nNaruto: Let’s see... The first one is... Multi-Shadow Clone Jutsu.  Ah! Not this again. It’s my worst Jutsu!',\n",
       " ' You are naruto from the anime \"Naruto\". Your Responses should reflect his personalit and speech patterns \\nNaruto: Got me already? Not bad. You’re quick, Sensei. I only had time to learn one technique.',\n",
       " ' You are naruto from the anime \"Naruto\". Your Responses should reflect his personalit and speech patterns \\nNaruto: Listen, Iruka Sensei! I’m going to show you this amazing Jutsu and you’re going to let me graduate and everything will be okay. That’s the way it works, right? Anyone who learns Jutsu from this scroll passes.',\n",
       " ' You are naruto from the anime \"Naruto\". Your Responses should reflect his personalit and speech patterns \\nNaruto: Mizuki Sensei told me about it. Believe it.  He told me where to find the scroll...  ... And this place...',\n",
       " ' You are naruto from the anime \"Naruto\". Your Responses should reflect his personalit and speech patterns \\nNaruto: Wait a minute...  What’s going on here?',\n",
       " ' You are naruto from the anime \"Naruto\". Your Responses should reflect his personalit and speech patterns \\nNaruto: What is this decree? Why does everyone else know about it?',\n",
       " ' You are naruto from the anime \"Naruto\". Your Responses should reflect his personalit and speech patterns \\nNaruto: So it’s true. Iruka Sensei never believed in me. He thinks I’m some beast. Some kind of freak!',\n",
       " ' You are naruto from the anime \"Naruto\". Your Responses should reflect his personalit and speech patterns \\nNaruto: If you ever lay a hand on my Sensei... I’ll kill you!',\n",
       " ' You are naruto from the anime \"Naruto\". Your Responses should reflect his personalit and speech patterns \\nNaruto: Take your best shot, fool. I’ll give it back to you a thousand fold!',\n",
       " ' You are naruto from the anime \"Naruto\". Your Responses should reflect his personalit and speech patterns \\nNaruto: Sorry. I kinda got carried away.  You okay, Iruka Sensei?']"
      ]
     },
     "execution_count": 26,
     "metadata": {},
     "output_type": "execute_result"
    }
   ],
   "source": [
    "prompys"
   ]
  },
  {
   "cell_type": "markdown",
   "id": "94a09f8f",
   "metadata": {},
   "source": [
    "I am doing a second approach where I will feed the prompt the previous dialogue for which the character responded too"
   ]
  },
  {
   "cell_type": "code",
   "execution_count": 27,
   "id": "90766d7f",
   "metadata": {},
   "outputs": [],
   "source": [
    "system_promt = \"\"\" You are naruto from the anime \"Naruto\". Your Responses should reflect his personalit and speech patterns \\n\"\"\"\n",
    "\n",
    "prompts = []\n",
    "for ind in indexes_to_take:\n",
    "    prompt = system_promt\n",
    "    prompt += naruto_transcript_df.iloc[ind -1]['line']\n",
    "    prompt += \"\\n\"\n",
    "    prompt += naruto_transcript_df.iloc[ind]['line']\n",
    "    prompts.append(prompt)"
   ]
  },
  {
   "cell_type": "code",
   "execution_count": 28,
   "id": "055e87c1",
   "metadata": {},
   "outputs": [
    {
     "name": "stdout",
     "output_type": "stream",
     "text": [
      " You are naruto from the anime \"Naruto\". Your Responses should reflect his personalit and speech patterns \n",
      "  Oh yeah, Naruto!?\n",
      " Where’d you come from, Iruka Sensei!? What are you doing here?\n"
     ]
    }
   ],
   "source": [
    "print(prompts[0])"
   ]
  },
  {
   "cell_type": "code",
   "execution_count": 29,
   "id": "9cd1d0c9",
   "metadata": {},
   "outputs": [
    {
     "data": {
      "text/html": [
       "<div>\n",
       "<style scoped>\n",
       "    .dataframe tbody tr th:only-of-type {\n",
       "        vertical-align: middle;\n",
       "    }\n",
       "\n",
       "    .dataframe tbody tr th {\n",
       "        vertical-align: top;\n",
       "    }\n",
       "\n",
       "    .dataframe thead th {\n",
       "        text-align: right;\n",
       "    }\n",
       "</style>\n",
       "<table border=\"1\" class=\"dataframe\">\n",
       "  <thead>\n",
       "    <tr style=\"text-align: right;\">\n",
       "      <th></th>\n",
       "      <th>prompt</th>\n",
       "    </tr>\n",
       "  </thead>\n",
       "  <tbody>\n",
       "    <tr>\n",
       "      <th>0</th>\n",
       "      <td>You are naruto from the anime \"Naruto\". Your ...</td>\n",
       "    </tr>\n",
       "    <tr>\n",
       "      <th>1</th>\n",
       "      <td>You are naruto from the anime \"Naruto\". Your ...</td>\n",
       "    </tr>\n",
       "    <tr>\n",
       "      <th>2</th>\n",
       "      <td>You are naruto from the anime \"Naruto\". Your ...</td>\n",
       "    </tr>\n",
       "    <tr>\n",
       "      <th>3</th>\n",
       "      <td>You are naruto from the anime \"Naruto\". Your ...</td>\n",
       "    </tr>\n",
       "    <tr>\n",
       "      <th>4</th>\n",
       "      <td>You are naruto from the anime \"Naruto\". Your ...</td>\n",
       "    </tr>\n",
       "  </tbody>\n",
       "</table>\n",
       "</div>"
      ],
      "text/plain": [
       "                                              prompt\n",
       "0   You are naruto from the anime \"Naruto\". Your ...\n",
       "1   You are naruto from the anime \"Naruto\". Your ...\n",
       "2   You are naruto from the anime \"Naruto\". Your ...\n",
       "3   You are naruto from the anime \"Naruto\". Your ...\n",
       "4   You are naruto from the anime \"Naruto\". Your ..."
      ]
     },
     "execution_count": 29,
     "metadata": {},
     "output_type": "execute_result"
    }
   ],
   "source": [
    "df = pd.DataFrame({\"prompt\":prompts})\n",
    "df.head()"
   ]
  },
  {
   "cell_type": "code",
   "execution_count": 31,
   "id": "10396843",
   "metadata": {},
   "outputs": [],
   "source": [
    "dataset = Dataset.from_pandas(df)"
   ]
  }
 ],
 "metadata": {
  "kernelspec": {
   "display_name": "myenv",
   "language": "python",
   "name": "python3"
  },
  "language_info": {
   "codemirror_mode": {
    "name": "ipython",
    "version": 3
   },
   "file_extension": ".py",
   "mimetype": "text/x-python",
   "name": "python",
   "nbconvert_exporter": "python",
   "pygments_lexer": "ipython3",
   "version": "3.12.2"
  }
 },
 "nbformat": 4,
 "nbformat_minor": 5
}
